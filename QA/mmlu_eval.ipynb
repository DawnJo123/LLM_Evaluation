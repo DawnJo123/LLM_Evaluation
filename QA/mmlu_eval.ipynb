{
 "cells": [
  {
   "cell_type": "code",
   "execution_count": 1,
   "id": "5ecc1fbd",
   "metadata": {},
   "outputs": [],
   "source": [
    "# Import necessary libraries\n",
    "import pandas as pd\n",
    "import numpy as np\n",
    "import os\n",
    "import time\n",
    "import re\n",
    "\n",
    "import matplotlib.pyplot as plt\n",
    "import seaborn as sns\n",
    "from tqdm.notebook import tqdm\n",
    "from openai import AzureOpenAI\n",
    "from groq import Groq"
   ]
  },
  {
   "cell_type": "code",
   "execution_count": 2,
   "id": "c190f51a",
   "metadata": {},
   "outputs": [
    {
     "data": {
      "text/html": [
       "<div>\n",
       "<style scoped>\n",
       "    .dataframe tbody tr th:only-of-type {\n",
       "        vertical-align: middle;\n",
       "    }\n",
       "\n",
       "    .dataframe tbody tr th {\n",
       "        vertical-align: top;\n",
       "    }\n",
       "\n",
       "    .dataframe thead th {\n",
       "        text-align: right;\n",
       "    }\n",
       "</style>\n",
       "<table border=\"1\" class=\"dataframe\">\n",
       "  <thead>\n",
       "    <tr style=\"text-align: right;\">\n",
       "      <th></th>\n",
       "      <th>input</th>\n",
       "      <th>Correct Answer</th>\n",
       "      <th>Correct Option</th>\n",
       "      <th>source</th>\n",
       "    </tr>\n",
       "  </thead>\n",
       "  <tbody>\n",
       "    <tr>\n",
       "      <th>0</th>\n",
       "      <td>A 50-year-old female presents to the office wi...</td>\n",
       "      <td>fibromyalgia</td>\n",
       "      <td>B</td>\n",
       "      <td>Professional Medicine</td>\n",
       "    </tr>\n",
       "    <tr>\n",
       "      <th>1</th>\n",
       "      <td>Once a prescribed unit of blood product has be...</td>\n",
       "      <td>30 minutes.</td>\n",
       "      <td>A</td>\n",
       "      <td>Clinical Knowledge</td>\n",
       "    </tr>\n",
       "    <tr>\n",
       "      <th>2</th>\n",
       "      <td>Removal of adhesive strips:\\n\\nA. can be carri...</td>\n",
       "      <td>can be carried out by the patient.</td>\n",
       "      <td>A</td>\n",
       "      <td>Clinical Knowledge</td>\n",
       "    </tr>\n",
       "    <tr>\n",
       "      <th>3</th>\n",
       "      <td>A 14-year-old girl has had nausea, intermitten...</td>\n",
       "      <td>Microscopic examination of the stool</td>\n",
       "      <td>D</td>\n",
       "      <td>Professional Medicine</td>\n",
       "    </tr>\n",
       "    <tr>\n",
       "      <th>4</th>\n",
       "      <td>A 26-year-old male police officer comes to the...</td>\n",
       "      <td>Initiation of a daily corticosteroid inhaler</td>\n",
       "      <td>D</td>\n",
       "      <td>Professional Medicine</td>\n",
       "    </tr>\n",
       "  </tbody>\n",
       "</table>\n",
       "</div>"
      ],
      "text/plain": [
       "                                               input  \\\n",
       "0  A 50-year-old female presents to the office wi...   \n",
       "1  Once a prescribed unit of blood product has be...   \n",
       "2  Removal of adhesive strips:\\n\\nA. can be carri...   \n",
       "3  A 14-year-old girl has had nausea, intermitten...   \n",
       "4  A 26-year-old male police officer comes to the...   \n",
       "\n",
       "                                 Correct Answer Correct Option  \\\n",
       "0                                  fibromyalgia              B   \n",
       "1                                   30 minutes.              A   \n",
       "2            can be carried out by the patient.              A   \n",
       "3          Microscopic examination of the stool              D   \n",
       "4  Initiation of a daily corticosteroid inhaler              D   \n",
       "\n",
       "                  source  \n",
       "0  Professional Medicine  \n",
       "1     Clinical Knowledge  \n",
       "2     Clinical Knowledge  \n",
       "3  Professional Medicine  \n",
       "4  Professional Medicine  "
      ]
     },
     "execution_count": 2,
     "metadata": {},
     "output_type": "execute_result"
    }
   ],
   "source": [
    "# Load the dataset\n",
    "df = pd.read_csv(r\"C:\\Users\\lenovo\\Desktop\\LLM_Evaluation\\data\\processed\\combined_medical_mcq_600.csv\")\n",
    "df.head()"
   ]
  },
  {
   "cell_type": "code",
   "execution_count": 3,
   "id": "1c121951",
   "metadata": {},
   "outputs": [],
   "source": [
    "from dotenv import load_dotenv\n",
    "load_dotenv()\n",
    "\n",
    "# Azure OpenAI configuration\n",
    "azure_api_key=os.getenv(\"AZURE_OPENAI_KEY\")\n",
    "azure_api_version= os.getenv(\"AZURE_OPENAI_VERSION\")\n",
    "azure_endpoint=os.getenv(\"AZURE_ENDPOINT\")\n",
    "AZURE_DEPLOYMENT_NAME = \"gpt-4o-mini\"\n",
    "\n",
    "# Groq API configuration\n",
    "groq_api_key = os.getenv(\"GROQ_API_KEY_SUB\")"
   ]
  },
  {
   "cell_type": "code",
   "execution_count": 4,
   "id": "d0d9cef2",
   "metadata": {},
   "outputs": [],
   "source": [
    "# Initialize the Azure OpenAI client\n",
    "azure_client = AzureOpenAI(\n",
    "    api_key=azure_api_key,\n",
    "    api_version=azure_api_version,\n",
    "    base_url=f\"{azure_endpoint}/openai/deployments/{AZURE_DEPLOYMENT_NAME}\"\n",
    ")\n",
    "\n",
    "# Initialize the Groq client\n",
    "groq_client = Groq(api_key=groq_api_key)"
   ]
  },
  {
   "cell_type": "code",
   "execution_count": 5,
   "id": "f75e7f83",
   "metadata": {},
   "outputs": [],
   "source": [
    "# Define available Groq models\n",
    "GROQ_MODELS = [\n",
    "    \"llama-3.3-70b-versatile\",  # Llama 3 8B\n",
    "    \"mistral-saba-24b\", # Llama 3 70B\n",
    "   \"llama-3.1-8b-instant\",     # Gemma 7B Instruction Tuned\n",
    "    \"gemma2-9b-it\", # Mixtral 8x7B\n",
    "]\n",
    "\n",
    "# Define all models for evaluation\n",
    "MODELS = [\n",
    "    {\"provider\": \"azure\", \"name\": AZURE_DEPLOYMENT_NAME},\n",
    "    {\"provider\": \"groq\", \"name\": \"llama-3.3-70b-versatile\",},\n",
    "    {\"provider\": \"groq\", \"name\": \"mistral-saba-24b\"},\n",
    "    {\"provider\": \"groq\", \"name\": \"llama-3.1-8b-instant\"},\n",
    "    {\"provider\": \"groq\", \"name\": \"gemma2-9b-it\"}\n",
    "]"
   ]
  },
  {
   "cell_type": "code",
   "execution_count": 6,
   "id": "74877973",
   "metadata": {},
   "outputs": [],
   "source": [
    "# Create directories for saving results\n",
    "import os\n",
    "\n",
    "results_dir = r\"C:\\Users\\lenovo\\Desktop\\LLM_Evaluation\\results\\QA\\MMLU\"\n",
    "plots_dir = os.path.join(results_dir, \"plots\")\n",
    "\n",
    "# Create directories if they don't exist\n",
    "os.makedirs(results_dir, exist_ok=True)\n",
    "os.makedirs(plots_dir, exist_ok=True)"
   ]
  },
  {
   "cell_type": "code",
   "execution_count": 7,
   "id": "035d58b9",
   "metadata": {},
   "outputs": [
    {
     "name": "stdout",
     "output_type": "stream",
     "text": [
      "Sampled 100 questions for evaluation\n"
     ]
    }
   ],
   "source": [
    "# Sample 100 questions from the dataset\n",
    "sample_size = 100\n",
    "sampled_df = df.sample(n=sample_size, random_state=42)\n",
    "sampled_df = sampled_df.reset_index(drop=True)\n",
    "print(f\"Sampled {sample_size} questions for evaluation\")"
   ]
  },
  {
   "cell_type": "code",
   "execution_count": 8,
   "id": "aeafc08c",
   "metadata": {},
   "outputs": [],
   "source": [
    "# Define a function to convert answer options to a standardized format\n",
    "def standardize_answer(answer):\n",
    "    # First extract just the first letter or character if possible\n",
    "    if answer and len(answer) > 0:\n",
    "        # Extract the first character of the response\n",
    "        first_char = answer[0].upper()\n",
    "        # Check if it's a valid option\n",
    "        if first_char in ['A', 'B', 'C', 'D']:\n",
    "            return first_char\n",
    "    \n",
    "    # If we couldn't extract a simple A/B/C/D, try more pattern matching\n",
    "    if answer:\n",
    "        # Clean the answer string\n",
    "        clean_answer = answer.upper().strip()\n",
    "        \n",
    "        # Try to match options with punctuation (A., B., etc.)\n",
    "        if clean_answer.startswith('A.') or clean_answer == 'A':\n",
    "            return 'A'\n",
    "        if clean_answer.startswith('B.') or clean_answer == 'B':\n",
    "            return 'B'\n",
    "        if clean_answer.startswith('C.') or clean_answer == 'C':\n",
    "            return 'C'\n",
    "        if clean_answer.startswith('D.') or clean_answer == 'D':\n",
    "            return 'D'\n",
    "        \n",
    "        # Try to find the option letter within the answer text\n",
    "        for option in ['A', 'B', 'C', 'D']:\n",
    "            if f\"OPTION {option}\" in clean_answer or f\"({option})\" in clean_answer:\n",
    "                return option\n",
    "    \n",
    "    # Return the original answer if no match is found\n",
    "    return answer"
   ]
  },
  {
   "cell_type": "code",
   "execution_count": 9,
   "id": "f1bafb19",
   "metadata": {},
   "outputs": [],
   "source": [
    "# Create prompt template for MCQ questions\n",
    "def create_prompt(question):\n",
    "    prompt = f\"\"\"\n",
    "You are a medical expert taking a multiple-choice exam. Choose the single most appropriate answer from the given options.\n",
    "\n",
    "Question: {question}\n",
    "\n",
    "Please respond with ONLY the letter (A, B, C, or D) corresponding to your answer. Do not add any punctuation, explanation, or additional text - just the single letter.\n",
    "\"\"\"\n",
    "    return prompt.strip()"
   ]
  },
  {
   "cell_type": "code",
   "execution_count": 10,
   "id": "cf2d3da2",
   "metadata": {},
   "outputs": [],
   "source": [
    "# Function to query Azure OpenAI models\n",
    "def query_azure_model(prompt, model_name):\n",
    "    try:\n",
    "        response = azure_client.chat.completions.create(\n",
    "            model=model_name,\n",
    "            messages=[\n",
    "                {\"role\": \"system\", \"content\": \"You are a helpful medical assistant that answers multiple choice questions.\"},\n",
    "                {\"role\": \"user\", \"content\": prompt}\n",
    "            ],\n",
    "            temperature=0,\n",
    "            max_tokens=10\n",
    "        )\n",
    "        answer = response.choices[0].message.content.strip()\n",
    "        return standardize_answer(answer)\n",
    "    except Exception as e:\n",
    "        print(f\"Error querying Azure model {model_name}: {str(e)}\")\n",
    "        return None"
   ]
  },
  {
   "cell_type": "code",
   "execution_count": 11,
   "id": "bd446472",
   "metadata": {},
   "outputs": [],
   "source": [
    "# Function to query Groq models\n",
    "def query_groq_model(prompt, model_name):\n",
    "    try:\n",
    "        response = groq_client.chat.completions.create(\n",
    "            model=model_name,\n",
    "            messages=[\n",
    "                {\"role\": \"system\", \"content\": \"You are a helpful medical assistant that answers multiple choice questions.\"},\n",
    "                {\"role\": \"user\", \"content\": prompt}\n",
    "            ],\n",
    "            temperature=0,\n",
    "            max_tokens=10\n",
    "        )\n",
    "        answer = response.choices[0].message.content.strip()\n",
    "        return standardize_answer(answer)\n",
    "    except Exception as e:\n",
    "        print(f\"Error querying Groq model {model_name}: {str(e)}\")\n",
    "        return None"
   ]
  },
  {
   "cell_type": "code",
   "execution_count": 12,
   "id": "b07b72dc",
   "metadata": {},
   "outputs": [],
   "source": [
    "# Create evaluation function\n",
    "def evaluate_model(model_info, sampled_questions, results=None):\n",
    "    if results is None:\n",
    "        results = []\n",
    "    \n",
    "    provider = model_info['provider']\n",
    "    model_name = model_info['name']\n",
    "    print(f\"Evaluating {provider} model: {model_name}\")\n",
    "    \n",
    "    for index, row in tqdm(sampled_questions.iterrows(), total=len(sampled_questions)):\n",
    "        question = row['input']\n",
    "        correct_option = row['Correct Option']\n",
    "        correct_answer = row['Correct Answer']\n",
    "        \n",
    "        prompt = create_prompt(question)\n",
    "        \n",
    "        # Query the appropriate model based on provider\n",
    "        if provider == 'azure':\n",
    "            model_answer = query_azure_model(prompt, model_name)\n",
    "        elif provider == 'groq':\n",
    "            model_answer = query_groq_model(prompt, model_name)\n",
    "        else:\n",
    "            model_answer = None\n",
    "            print(f\"Unknown provider: {provider}\")\n",
    "        \n",
    "        # Check if the answer is correct\n",
    "        is_correct = model_answer == correct_option if model_answer else False\n",
    "        \n",
    "        result = {\n",
    "            'question_id': index,\n",
    "            'model_provider': provider,\n",
    "            'model_name': model_name,\n",
    "            'model_answer': model_answer,\n",
    "            'correct_option': correct_option,\n",
    "            'correct_answer': correct_answer,\n",
    "            'is_correct': is_correct\n",
    "        }\n",
    "        \n",
    "        results.append(result)\n",
    "        \n",
    "        # Sleep to avoid rate limiting\n",
    "        time.sleep(0.5)\n",
    "    \n",
    "    return results"
   ]
  },
  {
   "cell_type": "code",
   "execution_count": 13,
   "id": "35394af6",
   "metadata": {},
   "outputs": [
    {
     "name": "stdout",
     "output_type": "stream",
     "text": [
      "Evaluating azure model: gpt-4o-mini\n"
     ]
    },
    {
     "data": {
      "application/vnd.jupyter.widget-view+json": {
       "model_id": "e245abc77d2542aea6112b48a5e1bd1c",
       "version_major": 2,
       "version_minor": 0
      },
      "text/plain": [
       "  0%|          | 0/3 [00:00<?, ?it/s]"
      ]
     },
     "metadata": {},
     "output_type": "display_data"
    },
    {
     "name": "stdout",
     "output_type": "stream",
     "text": [
      "Evaluating groq model: llama-3.3-70b-versatile\n"
     ]
    },
    {
     "data": {
      "application/vnd.jupyter.widget-view+json": {
       "model_id": "6cee644a921448fc90b3346e33baacfd",
       "version_major": 2,
       "version_minor": 0
      },
      "text/plain": [
       "  0%|          | 0/3 [00:00<?, ?it/s]"
      ]
     },
     "metadata": {},
     "output_type": "display_data"
    },
    {
     "data": {
      "text/html": [
       "<div>\n",
       "<style scoped>\n",
       "    .dataframe tbody tr th:only-of-type {\n",
       "        vertical-align: middle;\n",
       "    }\n",
       "\n",
       "    .dataframe tbody tr th {\n",
       "        vertical-align: top;\n",
       "    }\n",
       "\n",
       "    .dataframe thead th {\n",
       "        text-align: right;\n",
       "    }\n",
       "</style>\n",
       "<table border=\"1\" class=\"dataframe\">\n",
       "  <thead>\n",
       "    <tr style=\"text-align: right;\">\n",
       "      <th></th>\n",
       "      <th>question_id</th>\n",
       "      <th>model_provider</th>\n",
       "      <th>model_name</th>\n",
       "      <th>model_answer</th>\n",
       "      <th>correct_option</th>\n",
       "      <th>correct_answer</th>\n",
       "      <th>is_correct</th>\n",
       "    </tr>\n",
       "  </thead>\n",
       "  <tbody>\n",
       "    <tr>\n",
       "      <th>0</th>\n",
       "      <td>0</td>\n",
       "      <td>azure</td>\n",
       "      <td>gpt-4o-mini</td>\n",
       "      <td>A</td>\n",
       "      <td>A</td>\n",
       "      <td>Ductography</td>\n",
       "      <td>True</td>\n",
       "    </tr>\n",
       "    <tr>\n",
       "      <th>1</th>\n",
       "      <td>1</td>\n",
       "      <td>azure</td>\n",
       "      <td>gpt-4o-mini</td>\n",
       "      <td>D</td>\n",
       "      <td>D</td>\n",
       "      <td>A moon face and a buffalo hump are characteris...</td>\n",
       "      <td>True</td>\n",
       "    </tr>\n",
       "    <tr>\n",
       "      <th>2</th>\n",
       "      <td>2</td>\n",
       "      <td>azure</td>\n",
       "      <td>gpt-4o-mini</td>\n",
       "      <td>B</td>\n",
       "      <td>B</td>\n",
       "      <td>The floor</td>\n",
       "      <td>True</td>\n",
       "    </tr>\n",
       "    <tr>\n",
       "      <th>3</th>\n",
       "      <td>0</td>\n",
       "      <td>groq</td>\n",
       "      <td>llama-3.3-70b-versatile</td>\n",
       "      <td>A</td>\n",
       "      <td>A</td>\n",
       "      <td>Ductography</td>\n",
       "      <td>True</td>\n",
       "    </tr>\n",
       "    <tr>\n",
       "      <th>4</th>\n",
       "      <td>1</td>\n",
       "      <td>groq</td>\n",
       "      <td>llama-3.3-70b-versatile</td>\n",
       "      <td>D</td>\n",
       "      <td>D</td>\n",
       "      <td>A moon face and a buffalo hump are characteris...</td>\n",
       "      <td>True</td>\n",
       "    </tr>\n",
       "    <tr>\n",
       "      <th>5</th>\n",
       "      <td>2</td>\n",
       "      <td>groq</td>\n",
       "      <td>llama-3.3-70b-versatile</td>\n",
       "      <td>B</td>\n",
       "      <td>B</td>\n",
       "      <td>The floor</td>\n",
       "      <td>True</td>\n",
       "    </tr>\n",
       "  </tbody>\n",
       "</table>\n",
       "</div>"
      ],
      "text/plain": [
       "   question_id model_provider               model_name model_answer  \\\n",
       "0            0          azure              gpt-4o-mini            A   \n",
       "1            1          azure              gpt-4o-mini            D   \n",
       "2            2          azure              gpt-4o-mini            B   \n",
       "3            0           groq  llama-3.3-70b-versatile            A   \n",
       "4            1           groq  llama-3.3-70b-versatile            D   \n",
       "5            2           groq  llama-3.3-70b-versatile            B   \n",
       "\n",
       "  correct_option                                     correct_answer  \\\n",
       "0              A                                        Ductography   \n",
       "1              D  A moon face and a buffalo hump are characteris...   \n",
       "2              B                                          The floor   \n",
       "3              A                                        Ductography   \n",
       "4              D  A moon face and a buffalo hump are characteris...   \n",
       "5              B                                          The floor   \n",
       "\n",
       "   is_correct  \n",
       "0        True  \n",
       "1        True  \n",
       "2        True  \n",
       "3        True  \n",
       "4        True  \n",
       "5        True  "
      ]
     },
     "execution_count": 13,
     "metadata": {},
     "output_type": "execute_result"
    }
   ],
   "source": [
    "# Run evaluation on a small subset first for testing\n",
    "test_sample = sampled_df.head(3)\n",
    "test_results = []\n",
    "\n",
    "for model in MODELS[:2]:  # Test with just two models\n",
    "    test_results = evaluate_model(model, test_sample, test_results)\n",
    "\n",
    "# Convert to DataFrame for easier analysis\n",
    "test_df = pd.DataFrame(test_results)\n",
    "test_df"
   ]
  },
  {
   "cell_type": "code",
   "execution_count": 14,
   "id": "9a5303ee",
   "metadata": {},
   "outputs": [
    {
     "name": "stdout",
     "output_type": "stream",
     "text": [
      "Evaluating azure model: gpt-4o-mini\n"
     ]
    },
    {
     "data": {
      "application/vnd.jupyter.widget-view+json": {
       "model_id": "addcd141401c41f5a4d9b36af9d48bed",
       "version_major": 2,
       "version_minor": 0
      },
      "text/plain": [
       "  0%|          | 0/100 [00:00<?, ?it/s]"
      ]
     },
     "metadata": {},
     "output_type": "display_data"
    },
    {
     "name": "stdout",
     "output_type": "stream",
     "text": [
      "Evaluating groq model: llama-3.3-70b-versatile\n"
     ]
    },
    {
     "data": {
      "application/vnd.jupyter.widget-view+json": {
       "model_id": "df685ebb0a0e4884b3a397910c4eb841",
       "version_major": 2,
       "version_minor": 0
      },
      "text/plain": [
       "  0%|          | 0/100 [00:00<?, ?it/s]"
      ]
     },
     "metadata": {},
     "output_type": "display_data"
    },
    {
     "name": "stdout",
     "output_type": "stream",
     "text": [
      "Evaluating groq model: mistral-saba-24b\n"
     ]
    },
    {
     "data": {
      "application/vnd.jupyter.widget-view+json": {
       "model_id": "6cb31ff3e0dd41d388e94ef1034a72ab",
       "version_major": 2,
       "version_minor": 0
      },
      "text/plain": [
       "  0%|          | 0/100 [00:00<?, ?it/s]"
      ]
     },
     "metadata": {},
     "output_type": "display_data"
    },
    {
     "name": "stdout",
     "output_type": "stream",
     "text": [
      "Evaluating groq model: llama-3.1-8b-instant\n"
     ]
    },
    {
     "data": {
      "application/vnd.jupyter.widget-view+json": {
       "model_id": "090d7954ae784f6b9c41c550ebfd4003",
       "version_major": 2,
       "version_minor": 0
      },
      "text/plain": [
       "  0%|          | 0/100 [00:00<?, ?it/s]"
      ]
     },
     "metadata": {},
     "output_type": "display_data"
    },
    {
     "name": "stdout",
     "output_type": "stream",
     "text": [
      "Evaluating groq model: gemma2-9b-it\n"
     ]
    },
    {
     "data": {
      "application/vnd.jupyter.widget-view+json": {
       "model_id": "dcea419304e645199a5de98b56373e9f",
       "version_major": 2,
       "version_minor": 0
      },
      "text/plain": [
       "  0%|          | 0/100 [00:00<?, ?it/s]"
      ]
     },
     "metadata": {},
     "output_type": "display_data"
    }
   ],
   "source": [
    "# After confirming the small test works, run the full evaluation\n",
    "all_results = []\n",
    "\n",
    "for model in MODELS:\n",
    "    all_results = evaluate_model(model, sampled_df, all_results)\n",
    "\n",
    "# Convert to DataFrame for analysis\n",
    "results_df = pd.DataFrame(all_results)\n",
    "\n",
    "# Save raw results\n",
    "results_csv_path = os.path.join(results_dir, \"mmlu_eval_results.csv\")\n",
    "results_df.to_csv(results_csv_path, index=False)"
   ]
  },
  {
   "cell_type": "code",
   "execution_count": 15,
   "id": "ecc46f3e",
   "metadata": {},
   "outputs": [
    {
     "data": {
      "text/html": [
       "<div>\n",
       "<style scoped>\n",
       "    .dataframe tbody tr th:only-of-type {\n",
       "        vertical-align: middle;\n",
       "    }\n",
       "\n",
       "    .dataframe tbody tr th {\n",
       "        vertical-align: top;\n",
       "    }\n",
       "\n",
       "    .dataframe thead th {\n",
       "        text-align: right;\n",
       "    }\n",
       "</style>\n",
       "<table border=\"1\" class=\"dataframe\">\n",
       "  <thead>\n",
       "    <tr style=\"text-align: right;\">\n",
       "      <th></th>\n",
       "      <th>model_provider</th>\n",
       "      <th>model_name</th>\n",
       "      <th>accuracy</th>\n",
       "      <th>total_questions</th>\n",
       "      <th>accuracy_pct</th>\n",
       "    </tr>\n",
       "  </thead>\n",
       "  <tbody>\n",
       "    <tr>\n",
       "      <th>0</th>\n",
       "      <td>azure</td>\n",
       "      <td>gpt-4o-mini</td>\n",
       "      <td>0.87</td>\n",
       "      <td>100</td>\n",
       "      <td>87.0</td>\n",
       "    </tr>\n",
       "    <tr>\n",
       "      <th>1</th>\n",
       "      <td>groq</td>\n",
       "      <td>gemma2-9b-it</td>\n",
       "      <td>0.75</td>\n",
       "      <td>100</td>\n",
       "      <td>75.0</td>\n",
       "    </tr>\n",
       "    <tr>\n",
       "      <th>2</th>\n",
       "      <td>groq</td>\n",
       "      <td>llama-3.1-8b-instant</td>\n",
       "      <td>0.72</td>\n",
       "      <td>100</td>\n",
       "      <td>72.0</td>\n",
       "    </tr>\n",
       "    <tr>\n",
       "      <th>3</th>\n",
       "      <td>groq</td>\n",
       "      <td>llama-3.3-70b-versatile</td>\n",
       "      <td>0.83</td>\n",
       "      <td>100</td>\n",
       "      <td>83.0</td>\n",
       "    </tr>\n",
       "    <tr>\n",
       "      <th>4</th>\n",
       "      <td>groq</td>\n",
       "      <td>mistral-saba-24b</td>\n",
       "      <td>0.78</td>\n",
       "      <td>100</td>\n",
       "      <td>78.0</td>\n",
       "    </tr>\n",
       "  </tbody>\n",
       "</table>\n",
       "</div>"
      ],
      "text/plain": [
       "  model_provider               model_name  accuracy  total_questions  \\\n",
       "0          azure              gpt-4o-mini      0.87              100   \n",
       "1           groq             gemma2-9b-it      0.75              100   \n",
       "2           groq     llama-3.1-8b-instant      0.72              100   \n",
       "3           groq  llama-3.3-70b-versatile      0.83              100   \n",
       "4           groq         mistral-saba-24b      0.78              100   \n",
       "\n",
       "   accuracy_pct  \n",
       "0          87.0  \n",
       "1          75.0  \n",
       "2          72.0  \n",
       "3          83.0  \n",
       "4          78.0  "
      ]
     },
     "execution_count": 15,
     "metadata": {},
     "output_type": "execute_result"
    }
   ],
   "source": [
    "# Calculate accuracy metrics\n",
    "def calculate_metrics(results_df):\n",
    "    # Group by model and calculate accuracy\n",
    "    metrics = results_df.groupby(['model_provider', 'model_name']).agg(\n",
    "        accuracy=('is_correct', 'mean'),\n",
    "        total_questions=('is_correct', 'count')\n",
    "    ).reset_index()\n",
    "    \n",
    "    # Format accuracy as percentage\n",
    "    metrics['accuracy_pct'] = metrics['accuracy'] * 100\n",
    "    \n",
    "    return metrics\n",
    "\n",
    "metrics_df = calculate_metrics(results_df)\n",
    "metrics_df"
   ]
  },
  {
   "cell_type": "code",
   "execution_count": 16,
   "id": "4af52530",
   "metadata": {},
   "outputs": [],
   "source": [
    "# Save metrics results\n",
    "metrics_csv_path = os.path.join(results_dir, \"mmlu_eval_metrics.csv\")\n",
    "metrics_df.to_csv(metrics_csv_path, index=False)"
   ]
  },
  {
   "cell_type": "code",
   "execution_count": 17,
   "id": "6fce483d",
   "metadata": {},
   "outputs": [
    {
     "data": {
      "image/png": "[encoded data removed]",
      "text/plain": [
       "<Figure size 1200x600 with 1 Axes>"
      ]
     },
     "metadata": {},
     "output_type": "display_data"
    }
   ],
   "source": [
    "# Generate bar chart for accuracy comparison\n",
    "plt.figure(figsize=(12, 6))\n",
    "sns.set_style(\"whitegrid\")\n",
    "\n",
    "# Create model display names\n",
    "metrics_df['display_name'] = metrics_df.apply(\n",
    "    lambda x: f\"{x['model_name']} ({x['model_provider']})\", axis=1\n",
    ")\n",
    "\n",
    "# Sort by accuracy\n",
    "metrics_df = metrics_df.sort_values('accuracy', ascending=False)\n",
    "\n",
    "# Plot\n",
    "ax = sns.barplot(x='display_name', y='accuracy_pct', data=metrics_df)\n",
    "ax.set_title('MMLU Medical MCQ Accuracy by Model', fontsize=16)\n",
    "ax.set_xlabel('Model', fontsize=12)\n",
    "ax.set_ylabel('Accuracy (%)', fontsize=12)\n",
    "ax.set_ylim(0, 100)\n",
    "\n",
    "# Add the accuracy percentage on top of each bar\n",
    "for i, p in enumerate(ax.patches):\n",
    "    ax.annotate(f\"{p.get_height():.1f}%\", \n",
    "                (p.get_x() + p.get_width() / 2., p.get_height()), \n",
    "                ha = 'center', va = 'bottom',\n",
    "                fontsize=10)\n",
    "\n",
    "plt.xticks(rotation=45, ha='right')\n",
    "plt.tight_layout()\n",
    "\n",
    "# Save the plot\n",
    "accuracy_plot_path = os.path.join(plots_dir, \"model_accuracy_comparison.png\")\n",
    "plt.savefig(accuracy_plot_path, dpi=300)\n",
    "plt.show()"
   ]
  },
  {
   "cell_type": "code",
   "execution_count": 18,
   "id": "0588572a",
   "metadata": {},
   "outputs": [
    {
     "data": {
      "image/png": "[encoded data removed]",
      "text/plain": [
       "<Figure size 1200x600 with 1 Axes>"
      ]
     },
     "metadata": {},
     "output_type": "display_data"
    }
   ],
   "source": [
    "# Generate stacked bar chart showing correct vs incorrect answers\n",
    "model_counts = results_df.groupby(['model_provider', 'model_name']).agg(\n",
    "    correct=('is_correct', lambda x: sum(x)),\n",
    "    incorrect=('is_correct', lambda x: sum(~x))\n",
    ").reset_index()\n",
    "\n",
    "# Create display names\n",
    "model_counts['display_name'] = model_counts.apply(\n",
    "    lambda x: f\"{x['model_name']} ({x['model_provider']})\", axis=1\n",
    ")\n",
    "\n",
    "# Sort by correct answers\n",
    "model_counts = model_counts.sort_values('correct', ascending=False)\n",
    "\n",
    "plt.figure(figsize=(12, 6))\n",
    "ax = plt.subplot(111)\n",
    "\n",
    "# Plot stacked bars\n",
    "width = 0.75\n",
    "bars1 = ax.bar(model_counts['display_name'], model_counts['correct'], width, color='#5cb85c', label='Correct')\n",
    "bars2 = ax.bar(model_counts['display_name'], model_counts['incorrect'], width, bottom=model_counts['correct'], \n",
    "               color='#d9534f', label='Incorrect')\n",
    "\n",
    "# Add counts to bars\n",
    "for i, (c, ic) in enumerate(zip(model_counts['correct'], model_counts['incorrect'])):\n",
    "    ax.text(i, c/2, str(c), ha='center', va='center', color='white', fontweight='bold')\n",
    "    ax.text(i, c + ic/2, str(ic), ha='center', va='center', color='white', fontweight='bold')\n",
    "\n",
    "ax.set_title('Correct vs. Incorrect Answers by Model', fontsize=16)\n",
    "ax.set_ylabel('Number of Questions', fontsize=12)\n",
    "ax.set_xlabel('Model', fontsize=12)\n",
    "ax.legend(loc='upper right')\n",
    "\n",
    "plt.xticks(rotation=45, ha='right')\n",
    "plt.tight_layout()\n",
    "\n",
    "# Save the plot\n",
    "stacked_plot_path = os.path.join(plots_dir, \"correct_incorrect_comparison.png\")\n",
    "plt.savefig(stacked_plot_path, dpi=300)\n",
    "plt.show()"
   ]
  },
  {
   "cell_type": "code",
   "execution_count": 19,
   "id": "23f4a8e5",
   "metadata": {},
   "outputs": [],
   "source": [
    "# Create a confusion matrix-style visualization per model\n",
    "for model_idx, (provider, model_name) in enumerate(zip(\n",
    "    metrics_df['model_provider'], metrics_df['model_name'])):\n",
    "    \n",
    "    model_results = results_df[(results_df['model_provider'] == provider) & \n",
    "                              (results_df['model_name'] == model_name)]\n",
    "    \n",
    "    # Count occurrences of predicted vs actual answers\n",
    "    confusion = pd.crosstab(model_results['model_answer'], \n",
    "                            model_results['correct_option'],\n",
    "                            rownames=['Predicted'],\n",
    "                            colnames=['Actual'])\n",
    "    \n",
    "    # Make sure all options (A, B, C, D) are present\n",
    "    for option in ['A', 'B', 'C', 'D']:\n",
    "        if option not in confusion.index:\n",
    "            confusion.loc[option] = 0\n",
    "        if option not in confusion.columns:\n",
    "            confusion[option] = 0\n",
    "    \n",
    "    # Sort the index and columns\n",
    "    confusion = confusion.reindex(sorted(confusion.index), axis=0)\n",
    "    confusion = confusion.reindex(sorted(confusion.columns), axis=1)\n",
    "    \n",
    "    plt.figure(figsize=(8, 6))\n",
    "    sns.heatmap(confusion, annot=True, fmt='d', cmap='Blues')\n",
    "    plt.title(f'Answer Distribution: {model_name} ({provider})', fontsize=14)\n",
    "    plt.tight_layout()\n",
    "    path=r\"C:\\Users\\lenovo\\Desktop\\LLM_Evaluation\\results\\QA\\MMLU\\plots\"\n",
    "    # Save the confusion matrix\n",
    "    confusion_path = os.path.join(path, f\"{model_name}_confusion.png\")\n",
    "    # confusion_path = confusion_path.replace('/', '_').replace('\\\\', '_')\n",
    "    plt.savefig(confusion_path, dpi=300)\n",
    "    plt.close()"
   ]
  },
  {
   "cell_type": "code",
   "execution_count": 20,
   "id": "76417cd4",
   "metadata": {},
   "outputs": [
    {
     "name": "stdout",
     "output_type": "stream",
     "text": [
      "# MMLU Medical MCQ Evaluation Summary\n",
      "\n",
      "## Overview\n",
      "This report presents the results of evaluating various language models on medical multiple choice questions from the MMLU dataset.\n",
      "\n",
      "## Dataset\n",
      "- **Number of questions evaluated**: 100\n",
      "- **Topic**: Medical knowledge (MCQs)\n",
      "\n",
      "## Model Performance Summary\n",
      "\n",
      "### Accuracy Metrics\n",
      "\n",
      "| model_provider   | model_name              |   accuracy |   total_questions |   accuracy_pct | display_name                   |\n",
      "|:-----------------|:------------------------|-----------:|------------------:|---------------:|:-------------------------------|\n",
      "| azure            | gpt-4o-mini             |       0.87 |               100 |             87 | gpt-4o-mini (azure)            |\n",
      "| groq             | llama-3.3-70b-versatile |       0.83 |               100 |             83 | llama-3.3-70b-versatile (groq) |\n",
      "| groq             | mistral-saba-24b        |       0.78 |               100 |             78 | mistral-saba-24b (groq)        |\n",
      "| groq             | gemma2-9b-it            |       0.75 |               100 |             75 | gemma2-9b-it (groq)            |\n",
      "| groq             | llama-3.1-8b-instant    |       0.72 |               100 |             72 | llama-3.1-8b-instant (groq)    |\n",
      "\n",
      "## Key Findings\n",
      "\n",
      "* The best performing model was **gpt-4o-mini** (azure) with an accuracy of 87.00%\n",
      "* The lowest performing model was **llama-3.1-8b-instant** (groq) with an accuracy of 72.00%\n",
      "* The performance gap between the top and bottom model is 15.00 percentage points\n",
      "* The average accuracy across all models was 79.00%\n",
      "\n",
      "## Conclusion\n",
      "There is a moderate performance gap between the models, suggesting that larger models generally perform better on medical knowledge tasks.\n"
     ]
    }
   ],
   "source": [
    "# Generate a comparison summary report\n",
    "def generate_summary_report(metrics_df, results_df):\n",
    "    summary = \"\"\"# MMLU Medical MCQ Evaluation Summary\n",
    "\n",
    "## Overview\n",
    "This report presents the results of evaluating various language models on medical multiple choice questions from the MMLU dataset.\n",
    "\n",
    "## Dataset\n",
    "- **Number of questions evaluated**: {}\n",
    "- **Topic**: Medical knowledge (MCQs)\n",
    "\n",
    "## Model Performance Summary\n",
    "\"\"\".format(len(sampled_df))\n",
    "    \n",
    "    # Add the accuracy table\n",
    "    summary += \"\\n### Accuracy Metrics\\n\\n\"\n",
    "    summary += metrics_df.sort_values('accuracy', ascending=False).to_markdown(index=False)\n",
    "    \n",
    "    # Add insights about top and bottom performers\n",
    "    top_model = metrics_df.loc[metrics_df['accuracy'].idxmax()]\n",
    "    bottom_model = metrics_df.loc[metrics_df['accuracy'].idxmin()]\n",
    "    \n",
    "    summary += f\"\\n\\n## Key Findings\\n\\n\"\n",
    "    summary += f\"* The best performing model was **{top_model['model_name']}** ({top_model['model_provider']}) with an accuracy of {top_model['accuracy_pct']:.2f}%\\n\"\n",
    "    summary += f\"* The lowest performing model was **{bottom_model['model_name']}** ({bottom_model['model_provider']}) with an accuracy of {bottom_model['accuracy_pct']:.2f}%\\n\"\n",
    "    \n",
    "    # Calculate performance gap between top and bottom models\n",
    "    gap = top_model['accuracy_pct'] - bottom_model['accuracy_pct']\n",
    "    summary += f\"* The performance gap between the top and bottom model is {gap:.2f} percentage points\\n\"\n",
    "    \n",
    "    # Add average accuracy\n",
    "    avg_accuracy = metrics_df['accuracy'].mean() * 100\n",
    "    summary += f\"* The average accuracy across all models was {avg_accuracy:.2f}%\\n\"\n",
    "    \n",
    "    # Add more insights if needed\n",
    "    \n",
    "    summary += \"\\n## Conclusion\\n\"\n",
    "    if gap > 25:\n",
    "        summary += \"There is a significant performance gap between the best and worst models, indicating that model selection is critical for medical question answering tasks.\"\n",
    "    elif gap > 10:\n",
    "        summary += \"There is a moderate performance gap between the models, suggesting that larger models generally perform better on medical knowledge tasks.\"\n",
    "    else:\n",
    "        summary += \"All models performed relatively similarly on this task, suggesting that the medical knowledge is well-distributed across the different model architectures.\"\n",
    "    \n",
    "    return summary\n",
    "\n",
    "summary_report = generate_summary_report(metrics_df, results_df)\n",
    "print(summary_report)\n",
    "\n",
    "# Save the summary report\n",
    "summary_path = os.path.join(results_dir, \"mmlu_eval_summary.md\")\n",
    "with open(summary_path, \"w\") as f:\n",
    "    f.write(summary_report)"
   ]
  },
  {
   "cell_type": "code",
   "execution_count": null,
   "id": "6dfae430",
   "metadata": {},
   "outputs": [],
   "source": []
  }
 ],
 "metadata": {
  "kernelspec": {
   "display_name": "Python 3",
   "language": "python",
   "name": "python3"
  },
  "language_info": {
   "codemirror_mode": {
    "name": "ipython",
    "version": 3
   },
   "file_extension": ".py",
   "mimetype": "text/x-python",
   "name": "python",
   "nbconvert_exporter": "python",
   "pygments_lexer": "ipython3",
   "version": "3.11.8"
  }
 },
 "nbformat": 4,
 "nbformat_minor": 5
}
