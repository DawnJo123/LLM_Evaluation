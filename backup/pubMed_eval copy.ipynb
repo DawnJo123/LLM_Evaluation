{
 "cells": [
  {
   "cell_type": "markdown",
   "id": "6b2381e2",
   "metadata": {},
   "source": [
    "# PubMed QA Evaluation\n",
    "\n",
    "This notebook evaluates various large language models (LLMs) on their ability to answer yes/no/maybe medical questions from PubMed abstracts. The models are evaluated on their accuracy in understanding medical research literature and providing appropriate answers."
   ]
  },
  {
   "cell_type": "markdown",
   "id": "450da6b8",
   "metadata": {},
   "source": [
    "## Setup and Imports\n",
    "\n",
    "First, we'll import the necessary libraries and set up the environment."
   ]
  },
  {
   "cell_type": "code",
   "execution_count": 7,
   "id": "f181e500",
   "metadata": {},
   "outputs": [],
   "source": [
    "import pandas as pd\n",
    "import numpy as np\n",
    "import os\n",
    "import time\n",
    "import re\n",
    "import json\n",
    "import matplotlib.pyplot as plt\n",
    "import seaborn as sns\n",
    "from tqdm.notebook import tqdm\n",
    "from sklearn.metrics import confusion_matrix, accuracy_score, classification_report\n",
    "from dotenv import load_dotenv\n",
    "\n",
    "# Try to import the OpenAI and Groq libraries\n",
    "try:\n",
    "    from openai import AzureOpenAI\n",
    "    from groq import Groq\n",
    "except ImportError:\n",
    "    print(\"Warning: Some required libraries are missing. Install with: pip install openai groq\")\n",
    "\n",
    "# Set up display options\n",
    "pd.set_option('display.max_colwidth', None)"
   ]
  },
  {
   "cell_type": "markdown",
   "id": "cbfcf363",
   "metadata": {},
   "source": [
    "## Load Environment Variables\n",
    "\n",
    "Next, we'll load API keys and configurations from environment variables."
   ]
  },
  {
   "cell_type": "code",
   "execution_count": 8,
   "id": "73448396",
   "metadata": {},
   "outputs": [
    {
     "name": "stdout",
     "output_type": "stream",
     "text": [
      "Azure Deployment: gpt-4o-mini\n"
     ]
    }
   ],
   "source": [
    "def load_environment():\n",
    "    \"\"\"Load environment variables from .env file\"\"\"\n",
    "    load_dotenv()\n",
    "    \n",
    "    # Azure OpenAI configuration\n",
    "    azure_api_key = os.getenv(\"AZURE_OPENAI_KEY\")\n",
    "    azure_api_version = os.getenv(\"AZURE_OPENAI_VERSION\")\n",
    "    azure_endpoint = os.getenv(\"AZURE_ENDPOINT\")\n",
    "    azure_deployment_name = os.getenv(\"AZURE_DEPLOYMENT_NAME\", \"gpt-4o-mini\")\n",
    "    \n",
    "    # Groq API configuration\n",
    "    groq_api_key = os.getenv(\"GROQ_API_KEY_MAIN\")\n",
    "    \n",
    "    return {\n",
    "        'azure_api_key': azure_api_key,\n",
    "        'azure_api_version': azure_api_version,\n",
    "        'azure_endpoint': azure_endpoint,\n",
    "        'azure_deployment_name': azure_deployment_name,\n",
    "        'groq_api_key': groq_api_key\n",
    "    }\n",
    "\n",
    "# Load environment variables\n",
    "env_vars = load_environment()\n",
    "\n",
    "# Set constants based on environment variables\n",
    "AZURE_DEPLOYMENT_NAME = env_vars['azure_deployment_name']\n",
    "\n",
    "print(f\"Azure Deployment: {AZURE_DEPLOYMENT_NAME}\")"
   ]
  },
  {
   "cell_type": "markdown",
   "id": "6d3e866d",
   "metadata": {},
   "source": [
    "## Initialize API Clients\n",
    "\n",
    "Set up the clients for Azure OpenAI and Groq."
   ]
  },
  {
   "cell_type": "code",
   "execution_count": 9,
   "id": "a33217ea",
   "metadata": {},
   "outputs": [
    {
     "name": "stdout",
     "output_type": "stream",
     "text": [
      "Azure OpenAI client initialized successfully\n",
      "Groq client initialized successfully\n",
      "Groq client initialized successfully\n"
     ]
    }
   ],
   "source": [
    "def init_clients(env_vars):\n",
    "    \"\"\"Initialize API clients\"\"\"\n",
    "    clients = {}\n",
    "    \n",
    "    # Initialize Azure OpenAI client if credentials are available\n",
    "    if all([env_vars['azure_api_key'], env_vars['azure_api_version'], env_vars['azure_endpoint']]):\n",
    "        try:\n",
    "            clients['azure'] = AzureOpenAI(\n",
    "                api_key=env_vars['azure_api_key'],\n",
    "                api_version=env_vars['azure_api_version'],\n",
    "                base_url=f\"{env_vars['azure_endpoint']}/openai/deployments/{env_vars['azure_deployment_name']}\"\n",
    "            )\n",
    "            print(\"Azure OpenAI client initialized successfully\")\n",
    "        except Exception as e:\n",
    "            print(f\"Error initializing Azure client: {e}\")\n",
    "    \n",
    "    # Initialize Groq client if credentials are available\n",
    "    if env_vars['groq_api_key']:\n",
    "        try:\n",
    "            clients['groq'] = Groq(api_key=env_vars['groq_api_key'])\n",
    "            print(\"Groq client initialized successfully\")\n",
    "        except Exception as e:\n",
    "            print(f\"Error initializing Groq client: {e}\")\n",
    "            \n",
    "    return clients\n",
    "\n",
    "# Initialize the API clients\n",
    "clients = init_clients(env_vars)"
   ]
  },
  {
   "cell_type": "markdown",
   "id": "ffd1e7f9",
   "metadata": {},
   "source": [
    "## Define Models for Evaluation\n",
    "\n",
    "Set up the models we want to evaluate."
   ]
  },
  {
   "cell_type": "code",
   "execution_count": 10,
   "id": "e2f4d10b",
   "metadata": {},
   "outputs": [
    {
     "name": "stdout",
     "output_type": "stream",
     "text": [
      "Models to evaluate: 5\n",
      "- azure: gpt-4o-mini\n",
      "- groq: llama-3.3-70b-versatile\n",
      "- groq: mistral-saba-24b\n",
      "- groq: llama-3.1-8b-instant\n",
      "- groq: gemma2-9b-it\n"
     ]
    }
   ],
   "source": [
    "# Define Groq models to evaluate\n",
    "GROQ_MODELS = [\n",
    "    \"llama-3.3-70b-versatile\",\n",
    "    \"mistral-saba-24b\",\n",
    "    \"llama-3.1-8b-instant\",\n",
    "    \"gemma2-9b-it\"\n",
    "]\n",
    "\n",
    "# Build the full model list\n",
    "MODELS = []\n",
    "\n",
    "if 'azure' in clients:\n",
    "    MODELS.append({\"provider\": \"azure\", \"name\": env_vars['azure_deployment_name']})\n",
    "\n",
    "if 'groq' in clients:\n",
    "    for model in GROQ_MODELS:\n",
    "        MODELS.append({\"provider\": \"groq\", \"name\": model})\n",
    "\n",
    "print(f\"Models to evaluate: {len(MODELS)}\")\n",
    "for model in MODELS:\n",
    "    print(f\"- {model['provider']}: {model['name']}\")"
   ]
  },
  {
   "cell_type": "markdown",
   "id": "cc821267",
   "metadata": {},
   "source": [
    "## Load and Explore Data\n",
    "\n",
    "Load the PubMed dataset and examine its structure."
   ]
  },
  {
   "cell_type": "code",
   "execution_count": 11,
   "id": "99acb2f6",
   "metadata": {},
   "outputs": [
    {
     "name": "stdout",
     "output_type": "stream",
     "text": [
      "Dataset loaded with 500 questions\n",
      "<class 'pandas.core.frame.DataFrame'>\n",
      "RangeIndex: 500 entries, 0 to 499\n",
      "Data columns (total 6 columns):\n",
      " #   Column          Non-Null Count  Dtype \n",
      "---  ------          --------------  ----- \n",
      " 0   context         500 non-null    object\n",
      " 1   question        500 non-null    object\n",
      " 2   options         500 non-null    object\n",
      " 3   correct_option  500 non-null    object\n",
      " 4   correct_answer  500 non-null    object\n",
      " 5   long_answer     500 non-null    object\n",
      "dtypes: object(6)\n",
      "memory usage: 23.6+ KB\n"
     ]
    }
   ],
   "source": [
    "# Define paths\n",
    "data_path = \"../data/processed/pubmedqa_processed.csv\"\n",
    "results_dir = \"../results/QA/PubMed_TorF\"\n",
    "plots_dir = os.path.join(results_dir, \"plots\")\n",
    "\n",
    "# Create directories if they don't exist\n",
    "os.makedirs(results_dir, exist_ok=True)\n",
    "os.makedirs(plots_dir, exist_ok=True)\n",
    "\n",
    "# Load the dataset\n",
    "df = pd.read_csv(data_path)\n",
    "\n",
    "# Display basic information\n",
    "print(f\"Dataset loaded with {len(df)} questions\")\n",
    "df.info()"
   ]
  },
  {
   "cell_type": "code",
   "execution_count": 12,
   "id": "a5b7ec1c",
   "metadata": {},
   "outputs": [
    {
     "data": {
      "text/html": [
       "<div>\n",
       "<style scoped>\n",
       "    .dataframe tbody tr th:only-of-type {\n",
       "        vertical-align: middle;\n",
       "    }\n",
       "\n",
       "    .dataframe tbody tr th {\n",
       "        vertical-align: top;\n",
       "    }\n",
       "\n",
       "    .dataframe thead th {\n",
       "        text-align: right;\n",
       "    }\n",
       "</style>\n",
       "<table border=\"1\" class=\"dataframe\">\n",
       "  <thead>\n",
       "    <tr style=\"text-align: right;\">\n",
       "      <th></th>\n",
       "      <th>context</th>\n",
       "      <th>question</th>\n",
       "      <th>options</th>\n",
       "      <th>correct_option</th>\n",
       "      <th>correct_answer</th>\n",
       "      <th>long_answer</th>\n",
       "    </tr>\n",
       "  </thead>\n",
       "  <tbody>\n",
       "    <tr>\n",
       "      <th>497</th>\n",
       "      <td>['To determine whether TDP-43 type is associated with distinct patterns of brain atrophy on MRI in subjects with pathologically confirmed frontotemporal lobar degeneration (FTLD).'\\n 'In this case-control study, we identified all subjects with a pathologic diagnosis of FTLD with TDP-43 immunoreactive inclusions (FTLD-TDP) and at least one volumetric head MRI scan (n = 42). In each case we applied published criteria for subclassification of FTLD-TDP into FTLD-TDP types 1-3. Voxel-based morphometry was used to compare subjects with each of the different FTLD-TDP types to age- and gender-matched normal controls (n = 30). We also assessed different pathologic and genetic variants within, and across, the different types.'\\n 'Twenty-two subjects were classified as FTLD-TDP type 1, 9 as type 2, and 11 as type 3. We identified different patterns of atrophy across the types with type 1 showing frontotemporal and parietal atrophy, type 2 predominantly anterior temporal lobe atrophy, and type 3 predominantly posterior frontal atrophy. Within the FTLD-TDP type 1 group, those with a progranulin mutation had significantly more lateral temporal lobe atrophy than those without. All type 2 subjects were diagnosed with semantic dementia. Subjects with a pathologic diagnosis of FTLD with motor neuron degeneration had a similar pattern of atrophy, regardless of whether they were type 1 or type 3.']</td>\n",
       "      <td>Does TDP-43 type confer a distinct pattern of atrophy in frontotemporal lobar degeneration?</td>\n",
       "      <td>{'A': 'yes', 'B': 'no', 'C': 'maybe'}</td>\n",
       "      <td>A</td>\n",
       "      <td>yes</td>\n",
       "      <td>Although there are different patterns of atrophy across the different FTLD-TDP types, it appears that genetic and pathologic factors may also affect the patterns of atrophy.</td>\n",
       "    </tr>\n",
       "    <tr>\n",
       "      <th>472</th>\n",
       "      <td>['To determine if composite measures based on process indicators are consistent with short-term outcome indicators in surgical colorectal cancer care.'\\n 'Longitudinal analysis of consistency between composite measures based on process indicators and outcome indicators for 85 Dutch hospitals.'\\n 'The Dutch Surgical Colorectal Audit database, the Netherlands.'\\n '4732 elective patients with colon carcinoma and 2239 with rectum carcinoma treated in 85 hospitals were included in the analyses.'\\n 'All available process indicators were aggregated into five different composite measures. The association of the different composite measures with risk-adjusted postoperative mortality and morbidity was analysed at the patient and hospital level.'\\n 'At the patient level, only one of the composite measures was negatively associated with morbidity for rectum carcinoma. At the hospital level, a strong negative association was found between composite measures and hospital mortality and morbidity rates for rectum carcinoma (p&lt;0.05), and hospital morbidity rates for colon carcinoma.']</td>\n",
       "      <td>Combining process indicators to evaluate quality of care for surgical patients with colorectal cancer: are scores consistent with short-term outcome?</td>\n",
       "      <td>{'A': 'yes', 'B': 'no', 'C': 'maybe'}</td>\n",
       "      <td>C</td>\n",
       "      <td>maybe</td>\n",
       "      <td>For individual patients, a high score on the composite measures based on process indicators is not associated with better short-term outcome. However, at the hospital level, a good score on the composite measures based on process indicators was consistent with more favourable risk-adjusted short-term outcome rates.</td>\n",
       "    </tr>\n",
       "    <tr>\n",
       "      <th>389</th>\n",
       "      <td>['The insertion/deletion (ID) polymorphism of the angiotensin-converting enzyme (ACE) gene has been associated with increased coronary heart disease (CHD), although the mechanism of this association is not apparent. We tested the hypothesis that the deletion allele of the ACE gene is associated with insulin resistance.'\\n 'We related ACE genotype to components of the insulin-resistance syndrome in 103 non-insulin-dependent diabetic (NIDDM) and 533 nondiabetic white subjects. NIDDM subjects with the DD genotype had significantly lower levels of specific insulin (DD 38.6, ID 57.1, and II 87.4 pmol.L-1 by ANOVA, P = .011). Non-insulin-treated subjects with the DD genotype had increased insulin sensitivity by HOMA % (DD 56.4%, II 29.4%, P = .027) and lower levels of des 31,32 proinsulin (DD 3.3, II 7.6 pmol.L-1, P = .012) compared with II subjects. There were no differences in prevalence of CHD or levels of blood pressure, serum lipids, or plasminogen activator inhibitor-1 (PAI-1) activity between the three ACE genotypes. In nondiabetic subjects there were no differences in insulin sensitivity, levels of insulin-like molecules, blood pressure, PAI-1, serum lipids, or CHD prevalence between the three ACE genotypes.']</td>\n",
       "      <td>The insertion allele of the ACE gene I/D polymorphism. A candidate gene for insulin resistance?</td>\n",
       "      <td>{'A': 'yes', 'B': 'no', 'C': 'maybe'}</td>\n",
       "      <td>B</td>\n",
       "      <td>no</td>\n",
       "      <td>We conclude that increased cardiovascular risk of the DD genotype is not mediated through insulin resistance or abnormalities in fibrinolysis. Conversely, we report an increased sensitivity in NIDDM subjects with the ACE DD genotype.</td>\n",
       "    </tr>\n",
       "  </tbody>\n",
       "</table>\n",
       "</div>"
      ],
      "text/plain": [
       "                                                                                                                                                                                                                                                                                                                                                                                                                                                                                                                                                                                                                                                                                                                                                                                                                                                                                                                                                                                                                                                                                                                                                                                                                                                                                                                                                                                                                                                       context  \\\n",
       "497  ['To determine whether TDP-43 type is associated with distinct patterns of brain atrophy on MRI in subjects with pathologically confirmed frontotemporal lobar degeneration (FTLD).'\\n 'In this case-control study, we identified all subjects with a pathologic diagnosis of FTLD with TDP-43 immunoreactive inclusions (FTLD-TDP) and at least one volumetric head MRI scan (n = 42). In each case we applied published criteria for subclassification of FTLD-TDP into FTLD-TDP types 1-3. Voxel-based morphometry was used to compare subjects with each of the different FTLD-TDP types to age- and gender-matched normal controls (n = 30). We also assessed different pathologic and genetic variants within, and across, the different types.'\\n 'Twenty-two subjects were classified as FTLD-TDP type 1, 9 as type 2, and 11 as type 3. We identified different patterns of atrophy across the types with type 1 showing frontotemporal and parietal atrophy, type 2 predominantly anterior temporal lobe atrophy, and type 3 predominantly posterior frontal atrophy. Within the FTLD-TDP type 1 group, those with a progranulin mutation had significantly more lateral temporal lobe atrophy than those without. All type 2 subjects were diagnosed with semantic dementia. Subjects with a pathologic diagnosis of FTLD with motor neuron degeneration had a similar pattern of atrophy, regardless of whether they were type 1 or type 3.']   \n",
       "472                                                                                                                                                                                                                                                                                                                               ['To determine if composite measures based on process indicators are consistent with short-term outcome indicators in surgical colorectal cancer care.'\\n 'Longitudinal analysis of consistency between composite measures based on process indicators and outcome indicators for 85 Dutch hospitals.'\\n 'The Dutch Surgical Colorectal Audit database, the Netherlands.'\\n '4732 elective patients with colon carcinoma and 2239 with rectum carcinoma treated in 85 hospitals were included in the analyses.'\\n 'All available process indicators were aggregated into five different composite measures. The association of the different composite measures with risk-adjusted postoperative mortality and morbidity was analysed at the patient and hospital level.'\\n 'At the patient level, only one of the composite measures was negatively associated with morbidity for rectum carcinoma. At the hospital level, a strong negative association was found between composite measures and hospital mortality and morbidity rates for rectum carcinoma (p<0.05), and hospital morbidity rates for colon carcinoma.']   \n",
       "389                                                                                                                                                                            ['The insertion/deletion (ID) polymorphism of the angiotensin-converting enzyme (ACE) gene has been associated with increased coronary heart disease (CHD), although the mechanism of this association is not apparent. We tested the hypothesis that the deletion allele of the ACE gene is associated with insulin resistance.'\\n 'We related ACE genotype to components of the insulin-resistance syndrome in 103 non-insulin-dependent diabetic (NIDDM) and 533 nondiabetic white subjects. NIDDM subjects with the DD genotype had significantly lower levels of specific insulin (DD 38.6, ID 57.1, and II 87.4 pmol.L-1 by ANOVA, P = .011). Non-insulin-treated subjects with the DD genotype had increased insulin sensitivity by HOMA % (DD 56.4%, II 29.4%, P = .027) and lower levels of des 31,32 proinsulin (DD 3.3, II 7.6 pmol.L-1, P = .012) compared with II subjects. There were no differences in prevalence of CHD or levels of blood pressure, serum lipids, or plasminogen activator inhibitor-1 (PAI-1) activity between the three ACE genotypes. In nondiabetic subjects there were no differences in insulin sensitivity, levels of insulin-like molecules, blood pressure, PAI-1, serum lipids, or CHD prevalence between the three ACE genotypes.']   \n",
       "\n",
       "                                                                                                                                                  question  \\\n",
       "497                                                            Does TDP-43 type confer a distinct pattern of atrophy in frontotemporal lobar degeneration?   \n",
       "472  Combining process indicators to evaluate quality of care for surgical patients with colorectal cancer: are scores consistent with short-term outcome?   \n",
       "389                                                        The insertion allele of the ACE gene I/D polymorphism. A candidate gene for insulin resistance?   \n",
       "\n",
       "                                   options correct_option correct_answer  \\\n",
       "497  {'A': 'yes', 'B': 'no', 'C': 'maybe'}              A            yes   \n",
       "472  {'A': 'yes', 'B': 'no', 'C': 'maybe'}              C          maybe   \n",
       "389  {'A': 'yes', 'B': 'no', 'C': 'maybe'}              B             no   \n",
       "\n",
       "                                                                                                                                                                                                                                                                                                                      long_answer  \n",
       "497                                                                                                                                                 Although there are different patterns of atrophy across the different FTLD-TDP types, it appears that genetic and pathologic factors may also affect the patterns of atrophy.  \n",
       "472  For individual patients, a high score on the composite measures based on process indicators is not associated with better short-term outcome. However, at the hospital level, a good score on the composite measures based on process indicators was consistent with more favourable risk-adjusted short-term outcome rates.  \n",
       "389                                                                                     We conclude that increased cardiovascular risk of the DD genotype is not mediated through insulin resistance or abnormalities in fibrinolysis. Conversely, we report an increased sensitivity in NIDDM subjects with the ACE DD genotype.  "
      ]
     },
     "execution_count": 12,
     "metadata": {},
     "output_type": "execute_result"
    }
   ],
   "source": [
    "# Examine a sample from the dataset\n",
    "df.sample(3)"
   ]
  },
  {
   "cell_type": "markdown",
   "id": "4626341f",
   "metadata": {},
   "source": [
    "## Create Evaluation Functions\n",
    "\n",
    "Define the functions needed for prompt creation, response processing, and model evaluation."
   ]
  },
  {
   "cell_type": "code",
   "execution_count": 13,
   "id": "9f16d060",
   "metadata": {},
   "outputs": [],
   "source": [
    "def create_prompt(context, question, options):\n",
    "    \"\"\"Create a prompt for the LLM models\"\"\"\n",
    "    prompt = f\"\"\"Based on the following medical research context, please answer the question with ONLY 'yes', 'no', or 'maybe'. Do not provide explanations.\n",
    "\n",
    "Context: {context}\n",
    "\n",
    "Question: {question}\n",
    "\n",
    "Options:\n",
    "A: yes\n",
    "B: no\n",
    "C: maybe\n",
    "\n",
    "Your answer (respond with only 'yes', 'no', or 'maybe'):\"\"\"\n",
    "    return prompt\n",
    "\n",
    "def process_response(response_text):\n",
    "    \"\"\"Extract a yes/no/maybe answer from the model response\"\"\"\n",
    "    # Convert to lowercase and remove punctuation\n",
    "    cleaned_text = response_text.lower().strip()\n",
    "    \n",
    "    # Extract yes/no/maybe from response\n",
    "    if 'yes' in cleaned_text and ('no' not in cleaned_text or cleaned_text.find('yes') < cleaned_text.find('no')):\n",
    "        return 'yes'\n",
    "    elif 'no' in cleaned_text:\n",
    "        return 'no'\n",
    "    elif 'maybe' in cleaned_text:\n",
    "        return 'maybe'\n",
    "    else:\n",
    "        # Try to find option A/B/C if direct answer not found\n",
    "        if re.search(r'\\b[aA]\\b', cleaned_text):\n",
    "            return 'yes'\n",
    "        elif re.search(r'\\b[bB]\\b', cleaned_text):\n",
    "            return 'no'\n",
    "        elif re.search(r'\\b[cC]\\b', cleaned_text):\n",
    "            return 'maybe'\n",
    "        else:\n",
    "            # Default to most common answer if nothing found\n",
    "            return 'yes'\n",
    "\n",
    "def get_azure_response(client, prompt, deployment_name):\n",
    "    \"\"\"Get a response from Azure OpenAI\"\"\"\n",
    "    try:\n",
    "        response = client.chat.completions.create(\n",
    "            model=deployment_name,\n",
    "            messages=[\n",
    "                {\"role\": \"system\", \"content\": \"You are a medical research assistant that answers questions based on medical research papers.\"},\n",
    "                {\"role\": \"user\", \"content\": prompt}\n",
    "            ],\n",
    "            temperature=0.0,\n",
    "            max_tokens=50\n",
    "        )\n",
    "        return response.choices[0].message.content\n",
    "    except Exception as e:\n",
    "        print(f\"Azure API error: {e}\")\n",
    "        time.sleep(5)  # Wait before retrying\n",
    "        return \"Error\"\n",
    "\n",
    "def get_groq_response(client, model_name, prompt):\n",
    "    \"\"\"Get a response from Groq\"\"\"\n",
    "    try:\n",
    "        response = client.chat.completions.create(\n",
    "            model=model_name,\n",
    "            messages=[\n",
    "                {\"role\": \"system\", \"content\": \"You are a medical research assistant that answers questions based on medical research papers.\"},\n",
    "                {\"role\": \"user\", \"content\": prompt}\n",
    "            ],\n",
    "            temperature=0.0,\n",
    "            max_tokens=50\n",
    "        )\n",
    "        return response.choices[0].message.content\n",
    "    except Exception as e:\n",
    "        print(f\"Groq API error with {model_name}: {e}\")\n",
    "        time.sleep(5)  # Wait before retrying\n",
    "        return \"Error\""
   ]
  },
  {
   "cell_type": "code",
   "execution_count": 14,
   "id": "6dbe7903",
   "metadata": {},
   "outputs": [],
   "source": [
    "def evaluate_model(model_info, data_df, clients, env_vars, results_dir, max_samples=None):\n",
    "    \"\"\"Evaluate a model on the dataset\"\"\"\n",
    "    provider = model_info['provider']\n",
    "    model_name = model_info['name']\n",
    "    \n",
    "    print(f\"\\nEvaluating {provider} - {model_name}...\")\n",
    "    \n",
    "    # Limit samples if specified\n",
    "    if max_samples and max_samples < len(data_df):\n",
    "        eval_df = data_df.sample(max_samples, random_state=42).reset_index(drop=True)\n",
    "        print(f\"Using {max_samples} samples for evaluation\")\n",
    "    else:\n",
    "        eval_df = data_df\n",
    "    \n",
    "    results = []\n",
    "    start_time = time.time()\n",
    "    \n",
    "    for idx, row in tqdm(eval_df.iterrows(), total=len(eval_df)):\n",
    "        prompt = create_prompt(row['context'], row['question'], row['options'])\n",
    "        \n",
    "        # Get response based on provider\n",
    "        if provider == 'azure':\n",
    "            response_text = get_azure_response(clients['azure'], prompt, env_vars['azure_deployment_name'])\n",
    "        else:  # groq\n",
    "            response_text = get_groq_response(clients['groq'], model_name, prompt)\n",
    "            \n",
    "        if response_text == \"Error\":\n",
    "            # Retry once more if there was an error\n",
    "            time.sleep(2)\n",
    "            if provider == 'azure':\n",
    "                response_text = get_azure_response(clients['azure'], prompt, env_vars['azure_deployment_name'])\n",
    "            else:  # groq\n",
    "                response_text = get_groq_response(clients['groq'], model_name, prompt)\n",
    "        \n",
    "        processed_response = process_response(response_text)\n",
    "        \n",
    "        results.append({\n",
    "            'idx': idx,\n",
    "            'question': row['question'],\n",
    "            'context': row['context'],\n",
    "            'options': row['options'],\n",
    "            'correct_answer': row['correct_answer'],\n",
    "            'model_response': response_text,\n",
    "            'processed_response': processed_response,\n",
    "            'is_correct': processed_response == row['correct_answer']\n",
    "        })\n",
    "        \n",
    "        # Short pause between requests to avoid rate limiting\n",
    "        time.sleep(0.5)\n",
    "    \n",
    "    end_time = time.time()\n",
    "    elapsed_time = end_time - start_time\n",
    "    \n",
    "    # Calculate basic metrics\n",
    "    correct_count = sum(1 for r in results if r['is_correct'])\n",
    "    accuracy = correct_count / len(results)\n",
    "    \n",
    "    print(f\"Evaluation completed in {elapsed_time:.2f} seconds\")\n",
    "    print(f\"Accuracy: {accuracy:.4f} ({correct_count}/{len(results)})\")\n",
    "    \n",
    "    # Save results to file\n",
    "    model_id = f\"{provider}_{model_name.replace('-', '_')}\"\n",
    "    result_file = os.path.join(results_dir, f\"{model_id}_results.json\")\n",
    "    \n",
    "    with open(result_file, 'w') as f:\n",
    "        json.dump(results, f, indent=2)\n",
    "    \n",
    "    print(f\"Results saved to {result_file}\")\n",
    "    \n",
    "    return results"
   ]
  },
  {
   "cell_type": "code",
   "execution_count": 15,
   "id": "3fb471f7",
   "metadata": {},
   "outputs": [],
   "source": [
    "def calculate_metrics(model_results):\n",
    "    \"\"\"Calculate evaluation metrics from model results\"\"\"\n",
    "    y_true = [item['correct_answer'] for item in model_results]\n",
    "    y_pred = [item['processed_response'] for item in model_results]\n",
    "    \n",
    "    # Calculate accuracy\n",
    "    acc = accuracy_score(y_true, y_pred)\n",
    "    \n",
    "    # Generate confusion matrix\n",
    "    labels = ['yes', 'no', 'maybe']\n",
    "    cm = confusion_matrix(y_true, y_pred, labels=labels)\n",
    "    \n",
    "    # Classification report\n",
    "    report = classification_report(y_true, y_pred, labels=labels, output_dict=True)\n",
    "    \n",
    "    return {\n",
    "        'accuracy': acc,\n",
    "        'confusion_matrix': cm,\n",
    "        'report': report,\n",
    "        'labels': labels\n",
    "    }"
   ]
  },
  {
   "cell_type": "code",
   "execution_count": 16,
   "id": "a1cb37df",
   "metadata": {},
   "outputs": [],
   "source": [
    "def plot_confusion_matrix(cm, labels, title, output_path=None):\n",
    "    \"\"\"Generate and save a confusion matrix visualization\"\"\"\n",
    "    plt.figure(figsize=(8, 6))\n",
    "    sns.heatmap(cm, annot=True, fmt='d', cmap='Blues', xticklabels=labels, yticklabels=labels)\n",
    "    plt.xlabel('Predicted')\n",
    "    plt.ylabel('True')\n",
    "    plt.title(title)\n",
    "    plt.tight_layout()\n",
    "    \n",
    "    if output_path:\n",
    "        plt.savefig(output_path)\n",
    "        print(f\"Confusion matrix saved to {output_path}\")\n",
    "    \n",
    "    plt.show()\n",
    "\n",
    "def plot_accuracy_comparison(metrics_dict, plots_dir=None):\n",
    "    \"\"\"Generate and save an accuracy comparison chart\"\"\"\n",
    "    models = list(metrics_dict.keys())\n",
    "    accuracies = [metrics_dict[model]['accuracy'] for model in models]\n",
    "    \n",
    "    # Clean model names for display\n",
    "    display_names = [model.replace('_', ' ').replace('azure ', '').replace('groq ', '') for model in models]\n",
    "    \n",
    "    plt.figure(figsize=(12, 6))\n",
    "    bars = plt.bar(display_names, accuracies, color=sns.color_palette('muted', len(models)))\n",
    "    \n",
    "    plt.xlabel('Model')\n",
    "    plt.ylabel('Accuracy')\n",
    "    plt.title('Model Accuracy Comparison')\n",
    "    plt.ylim(0.0, 1.0)\n",
    "    plt.xticks(rotation=45, ha='right')\n",
    "    \n",
    "    # Add accuracy values on top of bars\n",
    "    for bar in bars:\n",
    "        height = bar.get_height()\n",
    "        plt.text(bar.get_x() + bar.get_width()/2., height + 0.01,\n",
    "                f'{height:.2f}', ha='center', va='bottom', rotation=0)\n",
    "    \n",
    "    plt.tight_layout()\n",
    "    \n",
    "    if plots_dir:\n",
    "        output_path = os.path.join(plots_dir, 'accuracy_comparison.png')\n",
    "        plt.savefig(output_path)\n",
    "        print(f\"Accuracy comparison saved to {output_path}\")\n",
    "    \n",
    "    plt.show()"
   ]
  },
  {
   "cell_type": "markdown",
   "id": "84a2f0c3",
   "metadata": {},
   "source": [
    "## Test Single Example\n",
    "\n",
    "Let's test a single example to make sure our prompting and response processing is working correctly."
   ]
  },
  {
   "cell_type": "code",
   "execution_count": 17,
   "id": "2a7d51d9",
   "metadata": {},
   "outputs": [
    {
     "name": "stdout",
     "output_type": "stream",
     "text": [
      "Question: Are high flow nasal cannulae noisier than bubble CPAP for preterm infants?\n",
      "\n",
      "Context excerpt: ['Noise exposure in the neonatal intensive care unit is believed to be a risk factor for hearing loss in preterm neonates. Continuous positive airway pressure (CPAP) devices exceed recommended noise levels. High flow nasal cannulae (HFNC) are an increasingly popular alternative to CPAP for treating ...\n",
      "\n",
      "Correct answer: no\n",
      "\n",
      "--- Prompt ---\n",
      "Based on the following medical research context, please answer the question with ONLY 'yes', 'no', or 'maybe'. Do not provide explanations.\n",
      "\n",
      "Context: ['Noise exposure in the neonatal intensive care unit is believed to be a risk factor for hearing loss in preterm neonates. Continuous positive airway pressure (CPAP) devices exceed recommended noise levels. High flow nasal cannulae (HFNC) are an increasingly popular alternative to CPAP for treating preterm infants, but there are no in vivo studies assessing noise production by HFNC.'\n",
      " 'To study whether HFNC are noisier than bubble CPAP (BCPAP) for preterm infants.'\n",
      " 'An observational study of preterm infants receiving HFNC or BCPAP. Noise levels within the external auditory meatus (EAM) were measured using a microphone probe tube connected to a calibrated digital dosimeter. Noise was measured across a range of frequencies and reported as decibels A-weighted (dBA).'\n",
      " 'A total of 21 HFNC and 13 BCPAP noise measurements were performed in 21 infants. HFNC gas flows were 2-5 L/min, and BCPAP gas flows were 6-10 L/min with set pressures of 5-7 cm of water. There was no evidence of a difference in average noise levels measured at the EAM: mean difference (95% CI) of -1.6 (-4.0 to 0.9) dBA for HFNC compared to BCPAP. At low frequency (500 Hz), HFNC was mean (95% CI) 3.0 (0.3 to 5.7) dBA quieter than BCPAP. Noise increased with increasing BCPAP gas flow (p=0.007), but not with increasing set pressure. There was a trend to noise increasing with increasing HFNC gas flows.']\n",
      "\n",
      "Question: Are high flow nasal cannulae noisier than bubble CPAP for preterm infants?\n",
      "\n",
      "Options:\n",
      "A: yes\n",
      "B: no\n",
      "C: maybe\n",
      "\n",
      "Your answer (respond with only 'yes', 'no', or 'maybe'):\n"
     ]
    }
   ],
   "source": [
    "# Select a random example\n",
    "test_row = df.sample(1).iloc[0]\n",
    "\n",
    "print(f\"Question: {test_row['question']}\")\n",
    "print(f\"\\nContext excerpt: {str(test_row['context'])[:300]}...\")\n",
    "print(f\"\\nCorrect answer: {test_row['correct_answer']}\")\n",
    "\n",
    "# Create a prompt\n",
    "test_prompt = create_prompt(test_row['context'], test_row['question'], test_row['options'])\n",
    "\n",
    "print(\"\\n--- Prompt ---\")\n",
    "print(test_prompt)"
   ]
  },
  {
   "cell_type": "code",
   "execution_count": 18,
   "id": "50280f9e",
   "metadata": {},
   "outputs": [
    {
     "name": "stdout",
     "output_type": "stream",
     "text": [
      "Testing with Azure OpenAI...\n",
      "\n",
      "Raw response: no\n",
      "Processed response: no\n",
      "Correct: True\n",
      "\n",
      "Raw response: no\n",
      "Processed response: no\n",
      "Correct: True\n"
     ]
    }
   ],
   "source": [
    "# Test with one model if available\n",
    "if 'azure' in clients:\n",
    "    print(\"Testing with Azure OpenAI...\")\n",
    "    test_response = get_azure_response(clients['azure'], test_prompt, env_vars['azure_deployment_name'])\n",
    "    print(f\"\\nRaw response: {test_response}\")\n",
    "    processed = process_response(test_response)\n",
    "    print(f\"Processed response: {processed}\")\n",
    "    print(f\"Correct: {processed == test_row['correct_answer']}\")\n",
    "elif 'groq' in clients:\n",
    "    print(\"Testing with Groq...\")\n",
    "    test_response = get_groq_response(clients['groq'], GROQ_MODELS[0], test_prompt)\n",
    "    print(f\"\\nRaw response: {test_response}\")\n",
    "    processed = process_response(test_response)\n",
    "    print(f\"Processed response: {processed}\")\n",
    "    print(f\"Correct: {processed == test_row['correct_answer']}\")\n",
    "else:\n",
    "    print(\"No API clients available for testing\")"
   ]
  },
  {
   "cell_type": "markdown",
   "id": "e7f3fdff",
   "metadata": {},
   "source": [
    "## Run Evaluation\n",
    "\n",
    "Now we'll run the evaluation on a sample of the dataset with all our models."
   ]
  },
  {
   "cell_type": "code",
   "execution_count": 19,
   "id": "bcb0601b",
   "metadata": {},
   "outputs": [],
   "source": [
    "# Set sample size for evaluation (use a small number for testing, larger for full evaluation)\n",
    "SAMPLE_SIZE = 30  # Adjust as needed\n",
    "\n",
    "# Sample the dataset\n",
    "sampled_df = df.sample(n=SAMPLE_SIZE, random_state=42).reset_index(drop=True)\n",
    "\n",
    "# Initialize storage for results\n",
    "all_model_results = {}"
   ]
  },
  {
   "cell_type": "code",
   "execution_count": 20,
   "id": "21dc643b",
   "metadata": {},
   "outputs": [
    {
     "name": "stdout",
     "output_type": "stream",
     "text": [
      "\n",
      "Evaluating azure - gpt-4o-mini...\n"
     ]
    },
    {
     "data": {
      "application/vnd.jupyter.widget-view+json": {
       "model_id": "83bb0d30a1f042dd814ffd12e48e63a9",
       "version_major": 2,
       "version_minor": 0
      },
      "text/plain": [
       "  0%|          | 0/30 [00:00<?, ?it/s]"
      ]
     },
     "metadata": {},
     "output_type": "display_data"
    },
    {
     "name": "stdout",
     "output_type": "stream",
     "text": [
      "Evaluation completed in 36.28 seconds\n",
      "Accuracy: 0.7667 (23/30)\n",
      "Results saved to ../results/QA/PubMed_TorF\\azure_gpt_4o_mini_results.json\n",
      "\n",
      "Evaluating groq - llama-3.3-70b-versatile...\n"
     ]
    },
    {
     "data": {
      "application/vnd.jupyter.widget-view+json": {
       "model_id": "b686c8be561743ada4932407a7b51d57",
       "version_major": 2,
       "version_minor": 0
      },
      "text/plain": [
       "  0%|          | 0/30 [00:00<?, ?it/s]"
      ]
     },
     "metadata": {},
     "output_type": "display_data"
    },
    {
     "name": "stdout",
     "output_type": "stream",
     "text": [
      "Evaluation completed in 20.45 seconds\n",
      "Accuracy: 0.7667 (23/30)\n",
      "Results saved to ../results/QA/PubMed_TorF\\groq_llama_3.3_70b_versatile_results.json\n",
      "\n",
      "Evaluating groq - mistral-saba-24b...\n"
     ]
    },
    {
     "data": {
      "application/vnd.jupyter.widget-view+json": {
       "model_id": "a2b9a15f9a55497294bf228c076d899a",
       "version_major": 2,
       "version_minor": 0
      },
      "text/plain": [
       "  0%|          | 0/30 [00:00<?, ?it/s]"
      ]
     },
     "metadata": {},
     "output_type": "display_data"
    },
    {
     "name": "stdout",
     "output_type": "stream",
     "text": [
      "Evaluation completed in 74.69 seconds\n",
      "Accuracy: 0.6000 (18/30)\n",
      "Results saved to ../results/QA/PubMed_TorF\\groq_mistral_saba_24b_results.json\n",
      "\n",
      "Evaluating groq - llama-3.1-8b-instant...\n"
     ]
    },
    {
     "data": {
      "application/vnd.jupyter.widget-view+json": {
       "model_id": "a60840bb3858485cbfd2902dc2cea7e5",
       "version_major": 2,
       "version_minor": 0
      },
      "text/plain": [
       "  0%|          | 0/30 [00:00<?, ?it/s]"
      ]
     },
     "metadata": {},
     "output_type": "display_data"
    },
    {
     "name": "stdout",
     "output_type": "stream",
     "text": [
      "Evaluation completed in 81.90 seconds\n",
      "Accuracy: 0.8000 (24/30)\n",
      "Results saved to ../results/QA/PubMed_TorF\\groq_llama_3.1_8b_instant_results.json\n",
      "\n",
      "Evaluating groq - gemma2-9b-it...\n"
     ]
    },
    {
     "data": {
      "application/vnd.jupyter.widget-view+json": {
       "model_id": "e7e167a239354dfb8b3e0f202c6a7af7",
       "version_major": 2,
       "version_minor": 0
      },
      "text/plain": [
       "  0%|          | 0/30 [00:00<?, ?it/s]"
      ]
     },
     "metadata": {},
     "output_type": "display_data"
    },
    {
     "name": "stdout",
     "output_type": "stream",
     "text": [
      "Evaluation completed in 25.71 seconds\n",
      "Accuracy: 0.5667 (17/30)\n",
      "Results saved to ../results/QA/PubMed_TorF\\groq_gemma2_9b_it_results.json\n"
     ]
    }
   ],
   "source": [
    "# Run evaluation for each model\n",
    "for model in MODELS:\n",
    "    model_id = f\"{model['provider']}_{model['name'].replace('-', '_')}\"\n",
    "    \n",
    "    # Check if results already exist\n",
    "    result_file = os.path.join(results_dir, f\"{model_id}_results.json\")\n",
    "    if os.path.exists(result_file):\n",
    "        print(f\"Loading existing results for {model_id}\")\n",
    "        with open(result_file, 'r') as f:\n",
    "            results = json.load(f)\n",
    "    else:\n",
    "        # Run evaluation for this model\n",
    "        results = evaluate_model(model, sampled_df, clients, env_vars, results_dir)\n",
    "    \n",
    "    all_model_results[model_id] = results"
   ]
  },
  {
   "cell_type": "markdown",
   "id": "4ae96505",
   "metadata": {},
   "source": [
    "## Analyze Results\n",
    "\n",
    "Let's analyze the performance of each model."
   ]
  },
  {
   "cell_type": "code",
   "execution_count": 21,
   "id": "dc52a7b2",
   "metadata": {},
   "outputs": [
    {
     "name": "stdout",
     "output_type": "stream",
     "text": [
      "Model Accuracy Summary:\n",
      "- azure_gpt_4o_mini: 0.7667\n",
      "- groq_llama_3.3_70b_versatile: 0.7667\n",
      "- groq_mistral_saba_24b: 0.6000\n",
      "- groq_llama_3.1_8b_instant: 0.8000\n",
      "- groq_gemma2_9b_it: 0.5667\n"
     ]
    }
   ],
   "source": [
    "# Calculate metrics for each model\n",
    "model_metrics = {}\n",
    "for model_id, results in all_model_results.items():\n",
    "    model_metrics[model_id] = calculate_metrics(results)\n",
    "    \n",
    "# Print accuracy summary\n",
    "print(\"Model Accuracy Summary:\")\n",
    "for model_id, metrics in model_metrics.items():\n",
    "    print(f\"- {model_id}: {metrics['accuracy']:.4f}\")"
   ]
  },
  {
   "cell_type": "code",
   "execution_count": 22,
   "id": "a8a98238",
   "metadata": {},
   "outputs": [
    {
     "name": "stdout",
     "output_type": "stream",
     "text": [
      "Confusion matrix saved to ../results/QA/PubMed_TorF\\plots\\azure_gpt_4o_mini_confusion_matrix.png\n"
     ]
    },
    {
     "data": {
      "image/png": "[encoded data removed]",
      "text/plain": [
       "<Figure size 800x600 with 2 Axes>"
      ]
     },
     "metadata": {},
     "output_type": "display_data"
    },
    {
     "name": "stdout",
     "output_type": "stream",
     "text": [
      "Confusion matrix saved to ../results/QA/PubMed_TorF\\plots\\groq_llama_3.3_70b_versatile_confusion_matrix.png\n"
     ]
    },
    {
     "data": {
      "image/png": "[encoded data removed]",
      "text/plain": [
       "<Figure size 800x600 with 2 Axes>"
      ]
     },
     "metadata": {},
     "output_type": "display_data"
    },
    {
     "name": "stdout",
     "output_type": "stream",
     "text": [
      "Confusion matrix saved to ../results/QA/PubMed_TorF\\plots\\groq_mistral_saba_24b_confusion_matrix.png\n"
     ]
    },
    {
     "data": {
      "image/png": "[encoded data removed]",
      "text/plain": [
       "<Figure size 800x600 with 2 Axes>"
      ]
     },
     "metadata": {},
     "output_type": "display_data"
    },
    {
     "name": "stdout",
     "output_type": "stream",
     "text": [
      "Confusion matrix saved to ../results/QA/PubMed_TorF\\plots\\groq_llama_3.1_8b_instant_confusion_matrix.png\n"
     ]
    },
    {
     "data": {
      "image/png": "[encoded data removed]",
      "text/plain": [
       "<Figure size 800x600 with 2 Axes>"
      ]
     },
     "metadata": {},
     "output_type": "display_data"
    },
    {
     "name": "stdout",
     "output_type": "stream",
     "text": [
      "Confusion matrix saved to ../results/QA/PubMed_TorF\\plots\\groq_gemma2_9b_it_confusion_matrix.png\n"
     ]
    },
    {
     "data": {
      "image/png": "[encoded data removed]",
      "text/plain": [
       "<Figure size 800x600 with 2 Axes>"
      ]
     },
     "metadata": {},
     "output_type": "display_data"
    }
   ],
   "source": [
    "# Generate confusion matrices\n",
    "for model_id, metrics in model_metrics.items():\n",
    "    cm = metrics['confusion_matrix']\n",
    "    labels = metrics['labels']\n",
    "    title = f'Confusion Matrix - {model_id.replace(\"_\", \" \")}'\n",
    "    output_path = os.path.join(plots_dir, f'{model_id}_confusion_matrix.png')\n",
    "    plot_confusion_matrix(cm, labels, title, output_path)"
   ]
  },
  {
   "cell_type": "code",
   "execution_count": 23,
   "id": "13faf7f1",
   "metadata": {},
   "outputs": [
    {
     "name": "stdout",
     "output_type": "stream",
     "text": [
      "Accuracy comparison saved to ../results/QA/PubMed_TorF\\plots\\accuracy_comparison.png\n"
     ]
    },
    {
     "data": {
      "image/png": "[encoded data removed]",
      "text/plain": [
       "<Figure size 1200x600 with 1 Axes>"
      ]
     },
     "metadata": {},
     "output_type": "display_data"
    }
   ],
   "source": [
    "# Generate accuracy comparison chart\n",
    "plot_accuracy_comparison(model_metrics, plots_dir)"
   ]
  },
  {
   "cell_type": "markdown",
   "id": "61457dae",
   "metadata": {},
   "source": [
    "## Detailed Performance Analysis\n",
    "\n",
    "Let's look at detailed performance metrics by answer category and examine error patterns."
   ]
  },
  {
   "cell_type": "code",
   "execution_count": 24,
   "id": "ee5f8d00",
   "metadata": {},
   "outputs": [
    {
     "name": "stdout",
     "output_type": "stream",
     "text": [
      "\n",
      "=== azure_gpt_4o_mini ===\n",
      "\n"
     ]
    },
    {
     "data": {
      "text/html": [
       "<div>\n",
       "<style scoped>\n",
       "    .dataframe tbody tr th:only-of-type {\n",
       "        vertical-align: middle;\n",
       "    }\n",
       "\n",
       "    .dataframe tbody tr th {\n",
       "        vertical-align: top;\n",
       "    }\n",
       "\n",
       "    .dataframe thead th {\n",
       "        text-align: right;\n",
       "    }\n",
       "</style>\n",
       "<table border=\"1\" class=\"dataframe\">\n",
       "  <thead>\n",
       "    <tr style=\"text-align: right;\">\n",
       "      <th></th>\n",
       "      <th>Precision</th>\n",
       "      <th>Recall</th>\n",
       "      <th>F1-score</th>\n",
       "      <th>Support</th>\n",
       "    </tr>\n",
       "  </thead>\n",
       "  <tbody>\n",
       "    <tr>\n",
       "      <th>yes</th>\n",
       "      <td>0.941176</td>\n",
       "      <td>0.80</td>\n",
       "      <td>0.864865</td>\n",
       "      <td>20.0</td>\n",
       "    </tr>\n",
       "    <tr>\n",
       "      <th>no</th>\n",
       "      <td>1.000000</td>\n",
       "      <td>0.75</td>\n",
       "      <td>0.857143</td>\n",
       "      <td>8.0</td>\n",
       "    </tr>\n",
       "    <tr>\n",
       "      <th>maybe</th>\n",
       "      <td>0.142857</td>\n",
       "      <td>0.50</td>\n",
       "      <td>0.222222</td>\n",
       "      <td>2.0</td>\n",
       "    </tr>\n",
       "  </tbody>\n",
       "</table>\n",
       "</div>"
      ],
      "text/plain": [
       "       Precision  Recall  F1-score  Support\n",
       "yes     0.941176    0.80  0.864865     20.0\n",
       "no      1.000000    0.75  0.857143      8.0\n",
       "maybe   0.142857    0.50  0.222222      2.0"
      ]
     },
     "metadata": {},
     "output_type": "display_data"
    },
    {
     "name": "stdout",
     "output_type": "stream",
     "text": [
      "\n",
      "=== groq_llama_3.3_70b_versatile ===\n",
      "\n"
     ]
    },
    {
     "data": {
      "text/html": [
       "<div>\n",
       "<style scoped>\n",
       "    .dataframe tbody tr th:only-of-type {\n",
       "        vertical-align: middle;\n",
       "    }\n",
       "\n",
       "    .dataframe tbody tr th {\n",
       "        vertical-align: top;\n",
       "    }\n",
       "\n",
       "    .dataframe thead th {\n",
       "        text-align: right;\n",
       "    }\n",
       "</style>\n",
       "<table border=\"1\" class=\"dataframe\">\n",
       "  <thead>\n",
       "    <tr style=\"text-align: right;\">\n",
       "      <th></th>\n",
       "      <th>Precision</th>\n",
       "      <th>Recall</th>\n",
       "      <th>F1-score</th>\n",
       "      <th>Support</th>\n",
       "    </tr>\n",
       "  </thead>\n",
       "  <tbody>\n",
       "    <tr>\n",
       "      <th>yes</th>\n",
       "      <td>0.944444</td>\n",
       "      <td>0.85</td>\n",
       "      <td>0.894737</td>\n",
       "      <td>20.0</td>\n",
       "    </tr>\n",
       "    <tr>\n",
       "      <th>no</th>\n",
       "      <td>0.600000</td>\n",
       "      <td>0.75</td>\n",
       "      <td>0.666667</td>\n",
       "      <td>8.0</td>\n",
       "    </tr>\n",
       "    <tr>\n",
       "      <th>maybe</th>\n",
       "      <td>0.000000</td>\n",
       "      <td>0.00</td>\n",
       "      <td>0.000000</td>\n",
       "      <td>2.0</td>\n",
       "    </tr>\n",
       "  </tbody>\n",
       "</table>\n",
       "</div>"
      ],
      "text/plain": [
       "       Precision  Recall  F1-score  Support\n",
       "yes     0.944444    0.85  0.894737     20.0\n",
       "no      0.600000    0.75  0.666667      8.0\n",
       "maybe   0.000000    0.00  0.000000      2.0"
      ]
     },
     "metadata": {},
     "output_type": "display_data"
    },
    {
     "name": "stdout",
     "output_type": "stream",
     "text": [
      "\n",
      "=== groq_mistral_saba_24b ===\n",
      "\n"
     ]
    },
    {
     "data": {
      "text/html": [
       "<div>\n",
       "<style scoped>\n",
       "    .dataframe tbody tr th:only-of-type {\n",
       "        vertical-align: middle;\n",
       "    }\n",
       "\n",
       "    .dataframe tbody tr th {\n",
       "        vertical-align: top;\n",
       "    }\n",
       "\n",
       "    .dataframe thead th {\n",
       "        text-align: right;\n",
       "    }\n",
       "</style>\n",
       "<table border=\"1\" class=\"dataframe\">\n",
       "  <thead>\n",
       "    <tr style=\"text-align: right;\">\n",
       "      <th></th>\n",
       "      <th>Precision</th>\n",
       "      <th>Recall</th>\n",
       "      <th>F1-score</th>\n",
       "      <th>Support</th>\n",
       "    </tr>\n",
       "  </thead>\n",
       "  <tbody>\n",
       "    <tr>\n",
       "      <th>yes</th>\n",
       "      <td>1.000000</td>\n",
       "      <td>0.55</td>\n",
       "      <td>0.709677</td>\n",
       "      <td>20.0</td>\n",
       "    </tr>\n",
       "    <tr>\n",
       "      <th>no</th>\n",
       "      <td>0.857143</td>\n",
       "      <td>0.75</td>\n",
       "      <td>0.800000</td>\n",
       "      <td>8.0</td>\n",
       "    </tr>\n",
       "    <tr>\n",
       "      <th>maybe</th>\n",
       "      <td>0.083333</td>\n",
       "      <td>0.50</td>\n",
       "      <td>0.142857</td>\n",
       "      <td>2.0</td>\n",
       "    </tr>\n",
       "  </tbody>\n",
       "</table>\n",
       "</div>"
      ],
      "text/plain": [
       "       Precision  Recall  F1-score  Support\n",
       "yes     1.000000    0.55  0.709677     20.0\n",
       "no      0.857143    0.75  0.800000      8.0\n",
       "maybe   0.083333    0.50  0.142857      2.0"
      ]
     },
     "metadata": {},
     "output_type": "display_data"
    },
    {
     "name": "stdout",
     "output_type": "stream",
     "text": [
      "\n",
      "=== groq_llama_3.1_8b_instant ===\n",
      "\n"
     ]
    },
    {
     "data": {
      "text/html": [
       "<div>\n",
       "<style scoped>\n",
       "    .dataframe tbody tr th:only-of-type {\n",
       "        vertical-align: middle;\n",
       "    }\n",
       "\n",
       "    .dataframe tbody tr th {\n",
       "        vertical-align: top;\n",
       "    }\n",
       "\n",
       "    .dataframe thead th {\n",
       "        text-align: right;\n",
       "    }\n",
       "</style>\n",
       "<table border=\"1\" class=\"dataframe\">\n",
       "  <thead>\n",
       "    <tr style=\"text-align: right;\">\n",
       "      <th></th>\n",
       "      <th>Precision</th>\n",
       "      <th>Recall</th>\n",
       "      <th>F1-score</th>\n",
       "      <th>Support</th>\n",
       "    </tr>\n",
       "  </thead>\n",
       "  <tbody>\n",
       "    <tr>\n",
       "      <th>yes</th>\n",
       "      <td>0.944444</td>\n",
       "      <td>0.850</td>\n",
       "      <td>0.894737</td>\n",
       "      <td>20.0</td>\n",
       "    </tr>\n",
       "    <tr>\n",
       "      <th>no</th>\n",
       "      <td>0.636364</td>\n",
       "      <td>0.875</td>\n",
       "      <td>0.736842</td>\n",
       "      <td>8.0</td>\n",
       "    </tr>\n",
       "    <tr>\n",
       "      <th>maybe</th>\n",
       "      <td>0.000000</td>\n",
       "      <td>0.000</td>\n",
       "      <td>0.000000</td>\n",
       "      <td>2.0</td>\n",
       "    </tr>\n",
       "  </tbody>\n",
       "</table>\n",
       "</div>"
      ],
      "text/plain": [
       "       Precision  Recall  F1-score  Support\n",
       "yes     0.944444   0.850  0.894737     20.0\n",
       "no      0.636364   0.875  0.736842      8.0\n",
       "maybe   0.000000   0.000  0.000000      2.0"
      ]
     },
     "metadata": {},
     "output_type": "display_data"
    },
    {
     "name": "stdout",
     "output_type": "stream",
     "text": [
      "\n",
      "=== groq_gemma2_9b_it ===\n",
      "\n"
     ]
    },
    {
     "data": {
      "text/html": [
       "<div>\n",
       "<style scoped>\n",
       "    .dataframe tbody tr th:only-of-type {\n",
       "        vertical-align: middle;\n",
       "    }\n",
       "\n",
       "    .dataframe tbody tr th {\n",
       "        vertical-align: top;\n",
       "    }\n",
       "\n",
       "    .dataframe thead th {\n",
       "        text-align: right;\n",
       "    }\n",
       "</style>\n",
       "<table border=\"1\" class=\"dataframe\">\n",
       "  <thead>\n",
       "    <tr style=\"text-align: right;\">\n",
       "      <th></th>\n",
       "      <th>Precision</th>\n",
       "      <th>Recall</th>\n",
       "      <th>F1-score</th>\n",
       "      <th>Support</th>\n",
       "    </tr>\n",
       "  </thead>\n",
       "  <tbody>\n",
       "    <tr>\n",
       "      <th>yes</th>\n",
       "      <td>1.000000</td>\n",
       "      <td>0.6</td>\n",
       "      <td>0.750000</td>\n",
       "      <td>20.0</td>\n",
       "    </tr>\n",
       "    <tr>\n",
       "      <th>no</th>\n",
       "      <td>0.800000</td>\n",
       "      <td>0.5</td>\n",
       "      <td>0.615385</td>\n",
       "      <td>8.0</td>\n",
       "    </tr>\n",
       "    <tr>\n",
       "      <th>maybe</th>\n",
       "      <td>0.076923</td>\n",
       "      <td>0.5</td>\n",
       "      <td>0.133333</td>\n",
       "      <td>2.0</td>\n",
       "    </tr>\n",
       "  </tbody>\n",
       "</table>\n",
       "</div>"
      ],
      "text/plain": [
       "       Precision  Recall  F1-score  Support\n",
       "yes     1.000000     0.6  0.750000     20.0\n",
       "no      0.800000     0.5  0.615385      8.0\n",
       "maybe   0.076923     0.5  0.133333      2.0"
      ]
     },
     "metadata": {},
     "output_type": "display_data"
    }
   ],
   "source": [
    "# Show detailed metrics for each model\n",
    "for model_id, metrics in model_metrics.items():\n",
    "    print(f\"\\n=== {model_id} ===\\n\")\n",
    "    \n",
    "    # Get the classification report\n",
    "    report = metrics['report']\n",
    "    \n",
    "    # Create a DataFrame for better visualization\n",
    "    report_df = pd.DataFrame({\n",
    "        'Precision': [report[label]['precision'] for label in ['yes', 'no', 'maybe']],\n",
    "        'Recall': [report[label]['recall'] for label in ['yes', 'no', 'maybe']],\n",
    "        'F1-score': [report[label]['f1-score'] for label in ['yes', 'no', 'maybe']],\n",
    "        'Support': [report[label]['support'] for label in ['yes', 'no', 'maybe']]\n",
    "    }, index=['yes', 'no', 'maybe'])\n",
    "    \n",
    "    display(report_df)"
   ]
  },
  {
   "cell_type": "code",
   "execution_count": 25,
   "id": "5418c6b4",
   "metadata": {},
   "outputs": [
    {
     "name": "stdout",
     "output_type": "stream",
     "text": [
      "\n",
      "=== Error Analysis for azure_gpt_4o_mini ===\n",
      "\n",
      "Total errors: 7 out of 30 samples (23.33%)\n",
      "\n",
      "Error distribution by correct answer:\n",
      "- yes: 4 errors\n",
      "- no: 2 errors\n",
      "- maybe: 1 errors\n",
      "\n",
      "Example errors:\n",
      "\n",
      "Error 1:\n",
      "Question: MiraLAX vs. Golytely: is there a significant difference in the adenoma detection rate?\n",
      "Correct Answer: yes\n",
      "Model Answer: maybe\n",
      "Raw Response: maybe\n",
      "\n",
      "Error 2:\n",
      "Question: Does pretreatment with statins improve clinical outcome after stroke?\n",
      "Correct Answer: no\n",
      "Model Answer: maybe\n",
      "Raw Response: maybe\n",
      "\n",
      "Error 3:\n",
      "Question: Application of computer-aided diagnosis (CAD) in MR-mammography (MRM): do we really need whole lesion time curve distribution analysis?\n",
      "Correct Answer: no\n",
      "Model Answer: maybe\n",
      "Raw Response: maybe\n"
     ]
    }
   ],
   "source": [
    "# Analyze errors for each model\n",
    "def analyze_model_errors(model_id, results):\n",
    "    errors = [r for r in results if not r['is_correct']]\n",
    "    print(f\"\\n=== Error Analysis for {model_id} ===\\n\")\n",
    "    print(f\"Total errors: {len(errors)} out of {len(results)} samples ({len(errors)/len(results):.2%})\")\n",
    "    \n",
    "    # Error distribution by correct answer\n",
    "    error_by_answer = {}\n",
    "    for answer in ['yes', 'no', 'maybe']:\n",
    "        answer_errors = [e for e in errors if e['correct_answer'] == answer]\n",
    "        error_by_answer[answer] = len(answer_errors)\n",
    "        \n",
    "    print(\"\\nError distribution by correct answer:\")\n",
    "    for answer, count in error_by_answer.items():\n",
    "        print(f\"- {answer}: {count} errors\")\n",
    "    \n",
    "    # Show a few examples of errors\n",
    "    print(\"\\nExample errors:\")\n",
    "    for i, error in enumerate(errors[:3], 1):\n",
    "        print(f\"\\nError {i}:\")\n",
    "        print(f\"Question: {error['question']}\")\n",
    "        print(f\"Correct Answer: {error['correct_answer']}\")\n",
    "        print(f\"Model Answer: {error['processed_response']}\")\n",
    "        print(f\"Raw Response: {error['model_response']}\")\n",
    "\n",
    "# Analyze errors for the first model (change index to analyze other models)\n",
    "if all_model_results:\n",
    "    first_model_id = list(all_model_results.keys())[0]\n",
    "    analyze_model_errors(first_model_id, all_model_results[first_model_id])"
   ]
  },
  {
   "cell_type": "markdown",
   "id": "ef7547ea",
   "metadata": {},
   "source": [
    "## Conclusion\n",
    "\n",
    "In this notebook, we've evaluated various LLMs on their ability to answer yes/no/maybe medical questions from PubMed abstracts. We've examined their accuracy, analyzed confusion matrices, and looked at error patterns.\n",
    "\n",
    "Key observations:\n",
    "1. The models show varying degrees of accuracy, with some performing better than others.\n",
    "2. Most models struggle with 'maybe' responses, often categorizing them as definitive 'yes' or 'no' answers.\n",
    "3. The context length and complexity of medical terminology present unique challenges for these models.\n",
    "\n",
    "Future work could focus on improving prompt engineering specifically for medical contexts or fine-tuning models on medical literature."
   ]
  }
 ],
 "metadata": {
  "kernelspec": {
   "display_name": "Python 3",
   "language": "python",
   "name": "python3"
  },
  "language_info": {
   "codemirror_mode": {
    "name": "ipython",
    "version": 3
   },
   "file_extension": ".py",
   "mimetype": "text/x-python",
   "name": "python",
   "nbconvert_exporter": "python",
   "pygments_lexer": "ipython3",
   "version": "3.11.8"
  }
 },
 "nbformat": 4,
 "nbformat_minor": 5
}
